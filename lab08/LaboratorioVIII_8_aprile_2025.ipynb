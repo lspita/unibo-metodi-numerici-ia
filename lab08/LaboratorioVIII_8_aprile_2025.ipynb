{
 "cells": [
  {
   "cell_type": "markdown",
   "id": "d2903ef7-4c36-4b4f-b8dd-01fa2f35dfc5",
   "metadata": {},
   "source": [
    "## Esercitazione 8  dell'   8  Aprile 2025\n"
   ]
  },
  {
   "cell_type": "markdown",
   "id": "f7105091-a87d-4561-bb63-c8ac815faf37",
   "metadata": {},
   "source": [
    "## Condizionamento del problema della soluzione di un sistema lineare"
   ]
  },
  {
   "cell_type": "markdown",
   "id": "2b2f0afd-9374-4f8e-8a7b-eb783ba28fd4",
   "metadata": {},
   "source": [
    "# Esercizio 1\n",
    "- Costruire la matrice di Vandermonde A, generata dal vettore x=[1.0,2.0,...,6.0] utilizzando la funzione np.vander(x, increasing=True) di numpy. \n",
    "- Calcolarne l'indice di condizionamento in norma infinito senza utilizzare la funzione cond di numpy.linalg e poi confrontarne il valore con quello ottenuto utilizzando la funzione.\n",
    "- Considerare il sistema lineare Ax=b  con matrice dei coefficienti A e termine noto costruito in maniera tale che la soluzione esatta sia il vettore x=[1,1,1,1,1,1] (ogni sua componente è 1) e risolverlo usando il metodo solve del modulo linalg di Scipy.\n",
    "- perturbare il vettore dei termini noti della quantità\n",
    "- \n",
    "$$\n",
    "\\delta b = 0.025 \\, \\ast \\,\n",
    "\\left [\n",
    "\\begin{array}{c}\n",
    "1\\\\\n",
    "0\\\\\n",
    "0\\\\\n",
    "0\n",
    "\\end{array}\n",
    "\\right ]\n",
    "$$\n",
    "- Risolvere il sistema con termine noto pertubato $b + \\delta b$ ((usando il metodo solve del modulo linalg di Scipy).\n",
    "- Calcolare l'errore relativo sul termine noto e l'errore relativo sulla soluzione. Cosa si può concludere?\n",
    "\n",
    "N.B. per il calcolo dell'inversa della matrice di A usare la funzione di numpy.linalg.inv(A).\n"
   ]
  },
  {
   "cell_type": "code",
   "execution_count": 37,
   "id": "92420a50-34cb-4df4-8d91-f861154c6044",
   "metadata": {},
   "outputs": [
    {
     "name": "stdout",
     "output_type": "stream",
     "text": [
      "x: [1. 2. 3. 4. 5. 6.]\n",
      "A: [[1.000e+00 1.000e+00 1.000e+00 1.000e+00 1.000e+00 1.000e+00]\n",
      " [1.000e+00 2.000e+00 4.000e+00 8.000e+00 1.600e+01 3.200e+01]\n",
      " [1.000e+00 3.000e+00 9.000e+00 2.700e+01 8.100e+01 2.430e+02]\n",
      " [1.000e+00 4.000e+00 1.600e+01 6.400e+01 2.560e+02 1.024e+03]\n",
      " [1.000e+00 5.000e+00 2.500e+01 1.250e+02 6.250e+02 3.125e+03]\n",
      " [1.000e+00 6.000e+00 3.600e+01 2.160e+02 1.296e+03 7.776e+03]]\n",
      "Condizionamento (custom): 1204321.0666668392\n",
      "Condizionamento (numpy): 1204321.0666668392\n",
      "b: [[6.000e+00]\n",
      " [6.300e+01]\n",
      " [3.640e+02]\n",
      " [1.365e+03]\n",
      " [3.906e+03]\n",
      " [9.331e+03]]\n",
      "Ax = b (originale): [[1.]\n",
      " [1.]\n",
      " [1.]\n",
      " [1.]\n",
      " [1.]\n",
      " [1.]]\n",
      "Ax = b (scipy): [[1.]\n",
      " [1.]\n",
      " [1.]\n",
      " [1.]\n",
      " [1.]\n",
      " [1.]]\n",
      "b perturbato: [[6.25000e+00]\n",
      " [6.32500e+01]\n",
      " [3.64250e+02]\n",
      " [1.36525e+03]\n",
      " [3.90625e+03]\n",
      " [9.33125e+03]]\n",
      "Ax = b perturbato: [[1.25]\n",
      " [1.  ]\n",
      " [1.  ]\n",
      " [1.  ]\n",
      " [1.  ]\n",
      " [1.  ]]\n",
      "Errore relativo b: 2.6792412388811488e-05\n",
      "Errore relativo x: 0.24999999999231692\n"
     ]
    }
   ],
   "source": [
    "import numpy as np\n",
    "import scipy as sp\n",
    "\n",
    "x = np.arange(1.0, 7.0)\n",
    "A = np.vander(x, increasing=True)\n",
    "print(\"x:\", x)\n",
    "print(\"A:\", A)\n",
    "\n",
    "norma_inf = lambda A: np.max(np.sum(np.abs(A), axis=1))\n",
    "\n",
    "cond = norma_inf(np.linalg.inv(A))*norma_inf(A)\n",
    "cond_np = np.linalg.cond(A, np.inf)\n",
    "\n",
    "print(\"Condizionamento (custom):\", cond)\n",
    "print(\"Condizionamento (numpy):\", cond_np)\n",
    "\n",
    "xx = np.full_like(x, 1.0).reshape(-1, 1)\n",
    "b = A @ xx\n",
    "\n",
    "x_ris = sp.linalg.solve(A, b)\n",
    "print(\"b:\", b)\n",
    "print(\"Ax = b (originale):\", xx)\n",
    "print(\"Ax = b (scipy):\", x_ris)\n",
    "\n",
    "delta_b = np.zeros_like(b) + [[0.25]]\n",
    "b2 = b + delta_b\n",
    "x2_ris = sp.linalg.solve(A, b2)\n",
    "print(\"b perturbato:\", b2)\n",
    "print(\"Ax = b perturbato:\", x2_ris)\n",
    "\n",
    "err_b = np.linalg.norm(b - b2, np.inf) / np.linalg.norm(b, np.inf)\n",
    "err_x = np.linalg.norm(x_ris - x2_ris, np.inf) / np.linalg.norm(x_ris, np.inf)\n",
    "print(\"Errore relativo b:\", err_b)\n",
    "print(\"Errore relativo x:\", err_x)\n",
    "\n",
    "# Ad un errore relativo sul termine noto b di 2.679e-05 corrisponde un errore relativo sulla soluzione x di 0.245.\n",
    "# Questo vuol dire che il problema era mal condizionato, come visto precedentemente (K = 1204321.067)."
   ]
  },
  {
   "cell_type": "markdown",
   "id": "1fad1579-04c4-4aae-a840-2ab3120aaf2e",
   "metadata": {},
   "source": [
    "## Esercizio 2\n",
    "Assegnato il sistema lineare $Ax = b$, con\n",
    "$$\n",
    "A =\n",
    "\\left [\n",
    "\\begin{array}{ccc}\n",
    "6 & 63 & 662.2\\\\\n",
    "63 & 662.2 & 6967.8\\\\\n",
    "662.2 & 6967.8 & 73393.5664\n",
    "\\end{array}\n",
    "\\right ], \\qquad\n",
    "b =\n",
    "\\left [\n",
    "\\begin{array}{c}\n",
    "1.1\\\\\n",
    "2.33\\\\\n",
    "1.7\n",
    "\\end{array}\n",
    "\\right ]\n",
    "$$\n",
    "- trovare il vettore soluzione $x$ (usando il metodo solve del modulo linalg di Scipy);\n",
    "- perturbare la matrice dei coefficienti della quantità\n",
    "$$\n",
    "\\delta A =\n",
    "0.01 \\, \\ast \\,\n",
    "\\left [ \\begin{array}{ccc}\n",
    "1 & 0 & 0\\\\\n",
    "0 & 0 & 0\\\\\n",
    "0 & 0 & 0\n",
    "\\end{array}\n",
    "\\right ]\n",
    "$$\n",
    "quindi calcolare l'errore relativo sulla soluzione e confrontarlo con la\n",
    "perturbazione relativa sui dati di ingresso. Cosa si osserva?"
   ]
  },
  {
   "cell_type": "code",
   "execution_count": 49,
   "id": "69ff0b94-3a07-4928-8177-9b4f02aecfcd",
   "metadata": {},
   "outputs": [
    {
     "name": "stdout",
     "output_type": "stream",
     "text": [
      "A: [[6.00000000e+00 6.30000000e+01 6.62200000e+02]\n",
      " [6.30000000e+01 6.62200000e+02 6.96780000e+03]\n",
      " [6.62200000e+02 6.96780000e+03 7.33935664e+04]]\n",
      "b: [[1.1 ]\n",
      " [2.33]\n",
      " [1.7 ]]\n",
      "x: [[136422.33748648]\n",
      " [-25999.49955099]\n",
      " [  1237.44419631]]\n",
      "\n",
      "A perturbata: [[6.00100000e+00 6.30010000e+01 6.62201000e+02]\n",
      " [6.30010000e+01 6.62201000e+02 6.96780100e+03]\n",
      " [6.62201000e+02 6.96780100e+03 7.33935674e+04]]\n",
      "x perturbato: [[136422.33748648]\n",
      " [-25999.49955099]\n",
      " [  1237.44419631]]\n",
      "Errore relativo A (percentuale): 4.050712060909191e-06%\n",
      "Errore relativo x (percentuale): 97.51339478916437%\n",
      "Condizionamento A: 19753018835.675186\n"
     ]
    }
   ],
   "source": [
    "import numpy as np\n",
    "import scipy as sp\n",
    "\n",
    "A = np.array([\n",
    "    [6, 63, 662.2],\n",
    "    [63, 662.2, 6967.8],\n",
    "    [662.2, 6967.8, 73393.5664],\n",
    "])\n",
    "b = np.array([1.1, 2.33, 1.7]).reshape((-1, 1))\n",
    "print(\"A:\", A)\n",
    "print(\"b:\", b)\n",
    "\n",
    "x = sp.linalg.solve(A, b)\n",
    "print(\"x:\", x)\n",
    "\n",
    "print()\n",
    "\n",
    "delta_A = np.zeros_like(A) + [[0.001]]\n",
    "Ap = A + delta_A\n",
    "print(\"A perturbata:\", Ap)\n",
    "xp = sp.linalg.solve(Ap, b)\n",
    "print(\"x perturbato:\", x)\n",
    "\n",
    "err_A = np.linalg.norm(A - Ap, np.inf) / np.linalg.norm(A)\n",
    "err_x = np.linalg.norm(x - xp, np.inf) / np.linalg.norm(x)\n",
    "print(f\"Errore relativo A (percentuale): {err_A * 100}%\")\n",
    "print(f\"Errore relativo x (percentuale): {err_x * 100}%\")\n",
    "\n",
    "# La matrice A è mal condizionata, in quanto una perturbazione con errore relativo piccolo (4.051e-06%)\n",
    "# ha generato un errore relativo sulla soluzione diversi ordini di grandezza maggiore (97.513%).\n",
    "# Possiamo confermare questo fatto andando a calcolare l'indice di condizionamento di A (19753018835.675)\n",
    "\n",
    "print(\"Condizionamento A:\", np.linalg.cond(A, np.inf))"
   ]
  },
  {
   "cell_type": "markdown",
   "id": "3fd35cbb-3eaa-4674-91ff-cf7148cac8b8",
   "metadata": {},
   "source": [
    "## Esercizio 3\n",
    " \n",
    "Assegnato il sistema lineare $Ax = b$, con $A$ matrice di Hilbert di ordine\n",
    "$4$ e $b = [1, 1, 1, 1]^T$,\n",
    " - trovare il vettore soluzione $x$ (usando il metodo solve del modulo linalg di Scipy);\n",
    " -  perturbare il vettore dei termini noti della quantità\n",
    "$$\n",
    "\\delta b = 0.01 \\, \\ast \\,\n",
    "\\left [\n",
    "\\begin{array}{c}\n",
    "1\\\\\n",
    "-1\\\\\n",
    "1\\\\\n",
    "-1\n",
    "\\end{array}\n",
    "\\right ]\n",
    "$$\n",
    "quindi calcolare la soluzione del sistema $A x_p= b_p$ con termine noto $b_p=b+ \\delta b$.\n",
    "Calcolare l'errore relativo sulla soluzione e confrontarlo con la perturbazione relativa sui dati di ingresso. Cosa si osserva?\n",
    "\n",
    "Nota: per la costruzione della matrice di Hilbert usare la funzione hilbert(n) del modulo scipy.linalg\n",
    "(scipy.linalg.hilbert(n))  dove bisogna specificare l'ordine n della matrice."
   ]
  },
  {
   "cell_type": "code",
   "execution_count": 71,
   "id": "d264393c-03f9-4658-aee9-c63fbfdb2716",
   "metadata": {},
   "outputs": [
    {
     "name": "stdout",
     "output_type": "stream",
     "text": [
      "A: [[1.         0.5        0.33333333 0.25      ]\n",
      " [0.5        0.33333333 0.25       0.2       ]\n",
      " [0.33333333 0.25       0.2        0.16666667]\n",
      " [0.25       0.2        0.16666667 0.14285714]]\n",
      "b: [[1.]\n",
      " [1.]\n",
      " [1.]\n",
      " [1.]]\n",
      "x: [[  -4.]\n",
      " [  60.]\n",
      " [-180.]\n",
      " [ 140.]]\n",
      "b perturbato: [[1.01]\n",
      " [0.99]\n",
      " [1.01]\n",
      " [0.99]]\n",
      "x perturbato: [[  1.16]\n",
      " [  3.  ]\n",
      " [-43.8 ]\n",
      " [ 51.8 ]]\n",
      "Errore relativo b: 1.0000000000000009%\n",
      "Errore relativo x: 75.66666666666883%\n",
      "Condizionamento A: 28375.00000000183\n"
     ]
    }
   ],
   "source": [
    "import numpy as np\n",
    "import scipy as sp\n",
    "\n",
    "A = sp.linalg.hilbert(4)\n",
    "b = np.full((4, 1), 1.0)\n",
    "print(\"A:\", A)\n",
    "print(\"b:\", b)\n",
    "x = sp.linalg.solve(A, b)\n",
    "print(\"x:\", x)\n",
    "\n",
    "delta_b = 0.01 * np.array([1, -1, 1, -1]).reshape((-1, 1))\n",
    "bp = b + delta_b\n",
    "print(\"b perturbato:\", bp)\n",
    "\n",
    "xp = sp.linalg.solve(A, bp)\n",
    "print(\"x perturbato:\", xp)\n",
    "\n",
    "err_b = np.linalg.norm(b - bp, np.inf) / np.linalg.norm(b, np.inf)\n",
    "err_x = np.linalg.norm(x - xp, np.inf) / np.linalg.norm(x, np.inf)\n",
    "\n",
    "print(f\"Errore relativo b: {err_b * 100}%\")\n",
    "print(f\"Errore relativo x: {err_x * 100}%\")\n",
    "\n",
    "# Ad una piccola perturbazione sui termini noti (err relativo 1%) corrisponde \n",
    "# una grande perturbazione sulla soluzione (err relativo 76%).\n",
    "# Di conseguenza il sistema è mal condizionato, e possiamo verificarlo andando a calcolare l'indice \n",
    "# di condizionamento di A (28375 >> 1)\n",
    "\n",
    "print(\"Condizionamento A:\", np.linalg.cond(A, np.inf))"
   ]
  },
  {
   "cell_type": "markdown",
   "id": "b1d646aa-f01a-4754-85e0-8803dc40b54f",
   "metadata": {},
   "source": [
    "## Metodi diretti per la soluzione numerica di un sistema lineare"
   ]
  },
  {
   "cell_type": "markdown",
   "id": "d49457b8-af07-4729-a33a-dc93547c1a20",
   "metadata": {},
   "source": [
    "## Nota 1.\n",
    "La funzione *scipy.linalg.lu(A)*  , presa in input una matrice A a rango massimo, restituisce in output le matrici $P^T$,L,U,  della fattorizzazione di LU della matrice A in maniera tale che PA=LU (restituisce la matrice di permutazione trasposta)"
   ]
  },
  {
   "cell_type": "code",
   "execution_count": 72,
   "id": "6164dfcc-4ff8-4d35-9ba3-59cae1f5189e",
   "metadata": {
    "tags": []
   },
   "outputs": [
    {
     "name": "stdout",
     "output_type": "stream",
     "text": [
      "A= [[2 1]\n",
      " [3 4]]\n",
      "L= [[1.         0.        ]\n",
      " [0.66666667 1.        ]]\n",
      "U= [[ 3.          4.        ]\n",
      " [ 0.         -1.66666667]]\n",
      "P= [[0. 1.]\n",
      " [1. 0.]]\n",
      "Matrice P*A \n",
      " [[3. 4.]\n",
      " [2. 1.]]\n",
      "Matrice ottenuta moltipicando Le ed U \n",
      " [[3. 4.]\n",
      " [2. 1.]]\n"
     ]
    }
   ],
   "source": [
    "import numpy as np\n",
    "import scipy as sp\n",
    "from scipy.linalg import lu\n",
    "A=np.array([[2,1],[3,4]])\n",
    "PT,L,U=lu(A)  #Restituisce in output la trasposta della matrice di Permutazione\n",
    "P=PT.T.copy()   #P è la matrice di permutazione\n",
    "print(\"A=\",A)\n",
    "print(\"L=\",L)\n",
    "print(\"U=\",U)\n",
    "print(\"P=\",P)\n",
    "#LU è la fattorizzazione di P*A (terorema 2)\n",
    "A1=P@A # equivale al prodotto matrice x matrice np.dot(P,A)\n",
    "A1Fatt=L@U # equivale a np.dot(L,U)\n",
    "print(\"Matrice P*A \\n\", A1)\n",
    "print(\"Matrice ottenuta moltipicando Le ed U \\n\",A1Fatt)\n"
   ]
  },
  {
   "cell_type": "markdown",
   "id": "76f8f316-d9af-4596-9eed-5aa64f913f1f",
   "metadata": {},
   "source": [
    "## Nota 2\n",
    "La funzione *scipy.linalg.cholesky(a, lower=True)*, presa in input una matrice simmetrica e definta positiva restituisce in output la matrice L triangolare inferiore tale che $A=L \\cdot L^T$. Se la matrice in input non è definita positiva, restituisce un errore."
   ]
  },
  {
   "cell_type": "code",
   "execution_count": 3,
   "id": "162e3ab4-4a37-43d4-9727-6f032595449f",
   "metadata": {
    "tags": []
   },
   "outputs": [
    {
     "name": "stdout",
     "output_type": "stream",
     "text": [
      "[[ 2  1  3]\n",
      " [ 1  5  7]\n",
      " [ 3  7 12]]\n"
     ]
    }
   ],
   "source": [
    "from scipy.linalg import cholesky\n",
    "A=np.array([[2,1,3],[1,5,7],[3,7,12]])\n",
    "print(A)"
   ]
  },
  {
   "cell_type": "code",
   "execution_count": 4,
   "id": "96fd572b-f470-4436-aea2-0bb5da4fdd23",
   "metadata": {
    "tags": []
   },
   "outputs": [
    {
     "name": "stdout",
     "output_type": "stream",
     "text": [
      "[[1.41421356 0.         0.        ]\n",
      " [0.70710678 2.12132034 0.        ]\n",
      " [2.12132034 2.59272486 0.8819171 ]]\n",
      "A1=\n",
      " [[ 2.  1.  3.]\n",
      " [ 1.  5.  7.]\n",
      " [ 3.  7. 12.]]\n"
     ]
    }
   ],
   "source": [
    "L=cholesky(A,lower=True)\n",
    "print(L)\n",
    "A1=L@L.T\n",
    "print(\"A1=\\n\",A1)"
   ]
  },
  {
   "cell_type": "markdown",
   "id": "6760f2a0-ffec-49a1-96f7-ed643109e4d7",
   "metadata": {},
   "source": [
    "## Nota 3\n",
    "La funzione *scipy.linalg.qr(a)*, presa in input una matrice A (nxn)  a rango massimo, restituisce in output le matrici Q (ortogonale di dimensione nxn) ed una matrice R (nxn) triangolare superiore tale che $A=Q \\cdot R$"
   ]
  },
  {
   "cell_type": "code",
   "execution_count": 5,
   "id": "e336d0a6-f2c3-4a7b-a8e3-871e70ca917c",
   "metadata": {
    "tags": []
   },
   "outputs": [
    {
     "name": "stdout",
     "output_type": "stream",
     "text": [
      "Q= [[-0.53452248  0.6882472  -0.49051147]\n",
      " [-0.26726124 -0.6882472  -0.67445327]\n",
      " [-0.80178373 -0.22941573  0.55182541]]\n",
      "R= [[ -3.74165739  -7.48331477 -13.09580085]\n",
      " [  0.          -4.35889894  -5.50597761]\n",
      " [  0.           0.           0.42919754]]\n",
      "[[ 2.  1.  3.]\n",
      " [ 1.  5.  7.]\n",
      " [ 3.  7. 12.]]\n"
     ]
    }
   ],
   "source": [
    "from scipy.linalg import qr\n",
    "A=np.array([[2,1,3],[1,5,7],[3,7,12]])\n",
    "Q,R=qr(A)\n",
    "print(\"Q=\",Q)\n",
    "print(\"R=\",R)\n",
    "A1=Q@R\n",
    "print(A1)"
   ]
  },
  {
   "cell_type": "markdown",
   "id": "270ae20e-08a7-4ab4-a710-c4541a398ec1",
   "metadata": {},
   "source": [
    "## Esercizio 4\n",
    "- si implementi una function LUsolve(P,A,L,U,b) che risolve il sistema lineare Ax=b nel caso di fattorizzazione $PA = LU$ assegnata,\n",
    "combinando i metodi di risoluzione in avanti ed all'indietro  implementati nel file SolveTriangular.py.\n",
    "- si testi sulla matrice A = np.array([[2, 5, 8, 7], [5, 2, 2, 8], [7, 5, 6, 6], [5, 4, 4, 8]]) con termine noto b scelto in maniera tale che la soluzione esatta del sistema lineare sia il vettore formato da tutti 1."
   ]
  },
  {
   "cell_type": "code",
   "execution_count": 2,
   "id": "cc9f019d-ab7b-4a91-a3af-3925c810bd89",
   "metadata": {},
   "outputs": [],
   "source": [
    "import numpy as np\n",
    "import scipy as sp\n",
    "from SolveTriangular import Lsolve, Usolve\n",
    "\n",
    "def LUsolve(P, A, L, U, b):\n",
    "    pb = P@b\n",
    "    x, flag = Lsolve(L, pb)\n",
    "    if flag == 0:\n",
    "        return Usolve(U, x)\n",
    "    else:\n",
    "        return [], flag"
   ]
  },
  {
   "cell_type": "code",
   "execution_count": 7,
   "id": "e605085c-a2e6-4500-9c0f-288496e21133",
   "metadata": {},
   "outputs": [
    {
     "name": "stdout",
     "output_type": "stream",
     "text": [
      "Soluzione x: [[1.]\n",
      " [1.]\n",
      " [1.]\n",
      " [1.]]\n"
     ]
    }
   ],
   "source": [
    "A = np.array([[2, 5, 8, 7], [5, 2, 2, 8], [7, 5, 6, 6], [5, 4, 4, 8]])\n",
    "b = np.sum(A, axis=1).reshape((-1, 1))\n",
    "\n",
    "PT, L, U = sp.linalg.lu(A)\n",
    "P = PT.T.copy()\n",
    "x, flag = LUsolve(P, A, L, U, b)\n",
    "print(\"Soluzione x:\", x)"
   ]
  },
  {
   "cell_type": "markdown",
   "id": "daa94c30-7b43-4ab5-896b-f2b2409a8a56",
   "metadata": {},
   "source": [
    "## Esercizio 5\n",
    "Si implementi una function *solve_nsis(A,B)* per il calcolo della soluzione di un generale sistema lineare $AX = B$, con $X, B$ matrici, che usi la fattorizzazione LU della matrice PA, per risolvere n sistemi lineari: aventi la stessa matrice dei coefficienti A e termine noto l'i-esima colonna della matrice B. \n",
    "Utilizzarla poi per il calcolo dell'inversa delle\n",
    "matrici non singolari\n",
    "$$\n",
    "A=\\left[\n",
    "\\begin{array}{ccc}\n",
    "3 & 5 & 7\\\\\n",
    "2 & 3 & 4\\\\\n",
    "5 & 9 & 11\n",
    "\\end{array}\n",
    "\\right ], \\qquad\n",
    "A=\\left[\n",
    "\\begin{array}{cccc}\n",
    "1 & 2 & 3 & 4\\\\\n",
    "2 & -4 & 6 & 8\\\\\n",
    "-1 & -2 & -3 & -1\\\\\n",
    "5 & 7 & 0 & 1\n",
    "\\end{array}\n",
    "\\right ],\n",
    "$$\n",
    "confrontando i risultati ottenuti con l'output\n",
    "della funzione  *scipy.linalg.inv(A)*"
   ]
  },
  {
   "cell_type": "code",
   "execution_count": 16,
   "id": "3b6f0a53-afc7-4e6b-9dfa-e7615461e75a",
   "metadata": {},
   "outputs": [],
   "source": [
    "import numpy as np\n",
    "import scipy as sp\n",
    "\n",
    "def solve_nsis(A, B):\n",
    "    PT, L, U = sp.linalg.lu(A)\n",
    "    P = PT.T.copy()\n",
    "    X = np.zeros_like(B)\n",
    "    \n",
    "    m, n = B.shape\n",
    "    for i in range(n):\n",
    "        b = B[:,i]\n",
    "        x, flag = LUsolve(P, A, L, U, b)\n",
    "        X[:,i] = x.reshape((1, -1))\n",
    "\n",
    "    return X"
   ]
  },
  {
   "cell_type": "code",
   "execution_count": 18,
   "id": "d19a6ced-692f-4bb6-9f2a-41a13440e7d0",
   "metadata": {},
   "outputs": [
    {
     "name": "stdout",
     "output_type": "stream",
     "text": [
      "A1 inversa (custom): [[-1.5  4.  -0.5]\n",
      " [-1.  -1.   1. ]\n",
      " [ 1.5 -1.  -0.5]]\n",
      "A1 inversa (scipy): [[-1.5  4.  -0.5]\n",
      " [-1.  -1.   1. ]\n",
      " [ 1.5 -1.  -0.5]]\n",
      "A2 inversa (custom): [[-4.16666667e-01  1.75000000e-01 -6.66666667e-02  2.00000000e-01]\n",
      " [ 2.50000000e-01 -1.25000000e-01 -0.00000000e+00 -8.16340459e-18]\n",
      " [-1.38888889e-01  2.50000000e-02 -4.22222222e-01 -6.66666667e-02]\n",
      " [ 3.33333333e-01  4.62592927e-18  3.33333333e-01 -9.25185854e-18]]\n",
      "A2 inversa (scipy): [[-4.16666667e-01  1.75000000e-01 -6.66666667e-02  2.00000000e-01]\n",
      " [ 2.50000000e-01 -1.25000000e-01  2.77555756e-17  0.00000000e+00]\n",
      " [-1.38888889e-01  2.50000000e-02 -4.22222222e-01 -6.66666667e-02]\n",
      " [ 3.33333333e-01  3.46944695e-18  3.33333333e-01 -1.38777878e-17]]\n"
     ]
    }
   ],
   "source": [
    "A1 = np.array([[3, 5, 7], [2, 3, 4], [5, 9, 11]], dtype=float)\n",
    "A2 = np.array([[1, 2, 3, 4], [2, -4, 6, 8], [-1, -2, -3, -1], [5, 7, 0, 1]], dtype=float)\n",
    "\n",
    "B1 = np.eye(A1.shape[0]) # utilizzando l'identità come matrice B, si ottiene l'inversa come risultato\n",
    "A1_inv = solve_nsis(A1, B1)\n",
    "print(\"A1 inversa (custom):\", A1_inv)\n",
    "print(\"A1 inversa (scipy):\", sp.linalg.inv(A1))\n",
    "\n",
    "B2 = np.eye(A2.shape[0]) # utilizzando l'identità come matrice B, si ottiene l'inversa come risultato\n",
    "A2_inv = solve_nsis(A2, B2)\n",
    "print(\"A2 inversa (custom):\", A2_inv)\n",
    "print(\"A2 inversa (scipy):\", sp.linalg.inv(A2))"
   ]
  },
  {
   "cell_type": "markdown",
   "id": "412ae29a-6a32-43e0-9456-e7677f695feb",
   "metadata": {},
   "source": [
    "## Esercizio 6\n",
    "Sfruttando la fattorizzazione PA=LU  di una delle matrici del punto precedente, calcolarne il determinante.\n"
   ]
  },
  {
   "cell_type": "code",
   "execution_count": 27,
   "id": "4e469b32-2a42-4cf5-a940-4ea5d87b858f",
   "metadata": {},
   "outputs": [
    {
     "name": "stdout",
     "output_type": "stream",
     "text": [
      "Determinante A1 (custom): 1.9999999999999984\n",
      "Determinante A1 (numpy): 1.9999999999999984\n"
     ]
    }
   ],
   "source": [
    "def det(A):\n",
    "    PT, L, U = sp.linalg.lu(A)\n",
    "    P = PT.T.copy()\n",
    "\n",
    "    return np.prod(np.diag(U)) * np.linalg.det(P) # è un'approssimazione, bisognerebbe calcolare in base al numero di scambi di P\n",
    "    \n",
    "print(\"Determinante A1 (custom):\", det(A1))\n",
    "print(\"Determinante A1 (numpy):\", np.linalg.det(A1))"
   ]
  },
  {
   "cell_type": "markdown",
   "id": "8b359b50-ef2b-4a62-8623-b4cba6a31468",
   "metadata": {},
   "source": [
    "## Esercizio 7\n",
    "Per valori di $n = 4 : 6 : 40$, si consideri il sistema lineare $A_n x = b$ con\n",
    "$A_n$ matrice di Hankel di ordine $n$ di elementi\n",
    "$$\n",
    "a^{(n)}_{i,n+k-i}\n",
    "=\n",
    "\\left \\{\n",
    "\\begin{array}{ll}\n",
    "2^k & \\hbox{se} \\ k > 0,\\\\\n",
    "2^{1/(2-k)} & \\hbox{se} \\ k \\leq 0,\n",
    "\\end{array}\n",
    "\\right .\n",
    "\\qquad\n",
    "i = 1, ..., n, \\ \\  k = i + 1-n, ..., i,\n",
    "$$\n",
    "e $b$ scelto in modo che risulti $x = [1, 1, ..., 1]^T$. Si risolva tale sistema\n",
    "con il metodo di fattorizzazione LU della matrice PA\n",
    "e il metodo di fattorizzazione QR (Q,R  =scipy.linalg.qr(A)).\n",
    "Calcolare gli errori relativi $\\| \\delta x \\|_2/\\|x\\|_2$ da cui sono affette\n",
    "le soluzioni calcolate con i due metodi e produrre, al variare di $n$, un\n",
    "grafico in scala logaritmica ( matplotlib.plyplot.loglog) degli errori relativi calcolati. Che cosa si\n",
    "osserva?\n",
    "\n",
    "NB: per il calcolo della matrice di Hankel utilizzare la function \n",
    "\n",
    "def Hankel(n):\n",
    "\n",
    "    A=np.zeros((n,n),dtype=float)\n",
    "    for i in range(0,n):\n",
    "        for k in range(i+1-n,i+1):\n",
    "            if k>0:\n",
    "                A[i,n-1+k-i]=2.0**(k+1)\n",
    "            else:\n",
    "                A[i,n-1+k-i]=2.0**(1/(2-k-1))\n",
    "    return A"
   ]
  },
  {
   "cell_type": "code",
   "execution_count": 55,
   "id": "dd9cd0dd-c14d-4e0b-a8d5-72c432ff4094",
   "metadata": {},
   "outputs": [
    {
     "data": {
      "image/png": "[encoded data removed]",
      "text/plain": [
       "<Figure size 640x480 with 1 Axes>"
      ]
     },
     "metadata": {},
     "output_type": "display_data"
    }
   ],
   "source": [
    "import numpy as np\n",
    "import matplotlib.pyplot as plt\n",
    "import scipy as sp\n",
    "\n",
    "def Hankel(n):\n",
    "    A=np.zeros((n,n),dtype=float)\n",
    "    for i in range(0,n):\n",
    "        for k in range(i+1-n,i+1):\n",
    "            if k>0:\n",
    "                A[i,n-1+k-i]=2.0**(k+1)\n",
    "            else:\n",
    "                A[i,n-1+k-i]=2.0**(1/(2-k-1))\n",
    "    return A\n",
    "\n",
    "valori_n = np.arange(4, 41, 6)\n",
    "errori_lu = []\n",
    "errori_qr = []\n",
    "for n in valori_n:\n",
    "    A = Hankel(n)\n",
    "    x = np.ones((n, 1))\n",
    "    b = A @ x \n",
    "    \n",
    "    PT, L, U = sp.linalg.lu(A)\n",
    "    P = PT.T.copy()\n",
    "    pb = P@b\n",
    "    x_lu, flag = Lsolve(L, pb)\n",
    "    x_lu, flag = Usolve(U, x_lu)\n",
    "\n",
    "    err_lu = np.linalg.norm(x - x_lu, 2) / np.linalg.norm(x, 2)\n",
    "    errori_lu.append(err_lu)\n",
    "\n",
    "    Q, R = sp.linalg.qr(A)\n",
    "    x_qr = Q.T @ b\n",
    "    x_qr, flag = Usolve(R, x_qr)\n",
    "    \n",
    "    err_qr = np.linalg.norm(x - x_qr, 2) / np.linalg.norm(x, 2)\n",
    "    errori_qr.append(err_qr)\n",
    "\n",
    "plt.semilogy(valori_n, errori_lu, \"-o\", label=\"Errore LU\")\n",
    "plt.semilogy(valori_n, errori_qr, \"-o\", label=\"Errore QR\")\n",
    "plt.legend()\n",
    "plt.show()"
   ]
  },
  {
   "cell_type": "markdown",
   "id": "00b1242a-d51d-40fa-a9ed-716cc4ab9d89",
   "metadata": {},
   "source": [
    "## Esercizio 8\n",
    "\n",
    "Ripetere l'esercizio precedente per risolvere il sistema lineare $Ax = b$\n",
    "con $A$ e $b$ cos\\`i  definiti:\n",
    "$$\n",
    "a^{(n)}_{i,j}=\n",
    "\\left \\{\n",
    "\\begin{array}{ll}\n",
    "1 & \\hbox{se} \\ i=j \\ \\hbox{o \\, se} \\ j=n,\\\\\n",
    "-1 & \\hbox{se} \\ i>j,\\\\\n",
    "0 & \\hbox{altrimenti}\n",
    "\\end{array}\n",
    "\\right .\n",
    "\\qquad\n",
    "b = A \\cdot [1, ..., 1]^T,\n",
    "$$\n",
    "per $n = 48 : 2 : 58$ e $b$ scelto in modo che risulti $x = [1, 1, ..., 1]^T$. Che\n",
    "cosa si osserva?"
   ]
  },
  {
   "cell_type": "code",
   "execution_count": 64,
   "id": "eb61e54a-95da-4960-a867-dd23f251dc61",
   "metadata": {},
   "outputs": [
    {
     "data": {
      "image/png": "[encoded data removed]",
      "text/plain": [
       "<Figure size 640x480 with 1 Axes>"
      ]
     },
     "metadata": {},
     "output_type": "display_data"
    }
   ],
   "source": [
    "import numpy as np\n",
    "import scipy as sp\n",
    "import matplotlib.pyplot as plt\n",
    "\n",
    "def crea_A(n):\n",
    "    A = np.zeros((n, n))\n",
    "    for i in range(n):\n",
    "        for j in range(n):\n",
    "            if i == j or j == n - 1:\n",
    "                A[i, j] = 1\n",
    "            elif i > j:\n",
    "                A[i, j] = -1\n",
    "            else:\n",
    "                A[i, j] = 0\n",
    "    return A\n",
    "\n",
    "valori_n = np.arange(48, 59, 2)\n",
    "err_lu = []\n",
    "err_qr = []\n",
    "for n in valori_n:\n",
    "    A = crea_A(n)\n",
    "    x = np.ones((n, 1))\n",
    "    b = A @ x\n",
    "\n",
    "    # fattorizzazione LU\n",
    "    PT, L, U = sp.linalg.lu(A)\n",
    "    P = PT.T.copy()\n",
    "    x_lu, flag = LUsolve(P, A, L, U, b)\n",
    "    err_lu.append(np.linalg.norm(x - x_lu, 2) / np.linalg.norm(x, 2))\n",
    "\n",
    "    # fattorizzazione QR\n",
    "    Q, R = sp.linalg.qr(A)\n",
    "    x_qr = Q.T @ b\n",
    "    x_qr, flag = Usolve(R, x_qr)\n",
    "    err_qr.append(np.linalg.norm(x - x_qr, 2) / np.linalg.norm(x, 2))\n",
    "\n",
    "plt.title(\"Errore relativo\")\n",
    "plt.xlabel(\"n\")\n",
    "plt.yscale(\"log\")\n",
    "plt.plot(valori_n, err_lu, \"-o\", label=\"LU\")\n",
    "plt.plot(valori_n, err_qr, \"-o\", label=\"QR\")\n",
    "plt.legend()\n",
    "plt.show()"
   ]
  }
 ],
 "metadata": {
  "kernelspec": {
   "display_name": "Python 3 (ipykernel)",
   "language": "python",
   "name": "python3"
  },
  "language_info": {
   "codemirror_mode": {
    "name": "ipython",
    "version": 3
   },
   "file_extension": ".py",
   "mimetype": "text/x-python",
   "name": "python",
   "nbconvert_exporter": "python",
   "pygments_lexer": "ipython3",
   "version": "3.13.5"
  }
 },
 "nbformat": 4,
 "nbformat_minor": 5
}

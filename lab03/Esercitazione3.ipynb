{
 "cells": [
  {
   "cell_type": "markdown",
   "id": "2f16cd51-b728-47c0-b39e-f22777b738f3",
   "metadata": {},
   "source": [
    "# Esercitazione 4 Marzo 2025"
   ]
  },
  {
   "cell_type": "code",
   "execution_count": 1,
   "id": "5e2761f8-27b2-4fd8-84b3-6be5d541e1d8",
   "metadata": {
    "editable": true,
    "slideshow": {
     "slide_type": ""
    },
    "tags": []
   },
   "outputs": [],
   "source": [
    "import numpy as np\n",
    "import matplotlib.pyplot as plt\n",
    "import math\n",
    "import time"
   ]
  },
  {
   "cell_type": "markdown",
   "id": "cea7be83-908f-4132-b3df-6eb9633855a9",
   "metadata": {
    "editable": true,
    "slideshow": {
     "slide_type": ""
    },
    "tags": []
   },
   "source": [
    "## Esercizio 1\n",
    "- Costruire due array numpy-array 2d di dimensione 5000x5000 i cui valori sono campionati da una distribuzione gaussiana con media 0 e varianza 1.\n",
    "- Effetuare la somma tra le due matrici con due metodi:\n",
    "\n",
    "        -  utilizzando le operazioni vettoriali \n",
    "        -  considerando due cicli espliciti annidati, su righe e colonne\n",
    "- Confrontare le prestazioni in termini di tempo di esecuzione.\n",
    "        \n"
   ]
  },
  {
   "cell_type": "code",
   "execution_count": 18,
   "id": "f61329b9-ed0a-406f-8d88-dbbb4bdedd95",
   "metadata": {
    "editable": true,
    "slideshow": {
     "slide_type": ""
    },
    "tags": []
   },
   "outputs": [
    {
     "name": "stdout",
     "output_type": "stream",
     "text": [
      "Somma vettoriale [s]: 0.0571284294128418\n",
      "Somma loop [s]: 19.53096580505371\n"
     ]
    }
   ],
   "source": [
    "arr1 = np.random.randn(5000, 5000)\n",
    "arr2 = np.random.randn(5000, 5000)\n",
    "start = time.time()\n",
    "res_vet = arr1 + arr2\n",
    "print(\"Somma vettoriale [s]:\", time.time() - start)\n",
    "start = time.time()\n",
    "res_loop = np.zeros_like(arr1)\n",
    "for i in range(arr1.shape[0]):\n",
    "    for j in range(arr1.shape[1]):\n",
    "        res_loop[i][j] = arr1[i][j] + arr2[i][j]\n",
    "print(\"Somma loop [s]:\", time.time() - start)"
   ]
  },
  {
   "cell_type": "markdown",
   "id": "2cc104af-5376-4b18-9945-9316885a30ed",
   "metadata": {},
   "source": [
    "## Esercizio 2\n",
    "-      Costruire il numpy array  s  formato da 40 valori equidistanti in  [0,20],\n",
    "-      considerarne il reshape in un array 2d che ha 4 righe con un numero opportuno di colonne e dire se il reshape crea una vista o una copia"
   ]
  },
  {
   "cell_type": "code",
   "execution_count": null,
   "id": "86695575-7ca1-497a-b803-c31dfd7305ce",
   "metadata": {},
   "outputs": [],
   "source": [
    "s = np.linspace(0, 20, 40)\n",
    "r = s.reshape((4, -1))\n",
    "print(\"reshape:\", r)\n",
    "np.shares_memory(s, r) # true, quindi è una vista"
   ]
  },
  {
   "cell_type": "markdown",
   "id": "8984c411-28fa-4590-9942-3d6d5bc5c665",
   "metadata": {},
   "source": [
    "## Esercizio 3\n",
    "-     Costruire il numpy array t formato da 100 valori equidistanti in  [0,4]\n",
    "-     considerarne il reshape in un array 2d che ha 4 colonne con un numero opportuno di righe"
   ]
  },
  {
   "cell_type": "code",
   "execution_count": null,
   "id": "731c4312-330b-4902-8a65-a5c4a6330df4",
   "metadata": {},
   "outputs": [],
   "source": [
    "t = np.linspace(0, 5, 100)\n",
    "r = t.reshape((4, -1))\n",
    "print(\"reshape:\", r)"
   ]
  },
  {
   "cell_type": "markdown",
   "id": "497ccc48-1ab8-4247-8e36-0c61e43c643c",
   "metadata": {},
   "source": [
    "## Esercizio 4\n",
    "Costruire il numpy array 1d C  di valori che variano tra 15 e 41 con step 2\n",
    "\n",
    "-     Trasformarlo in un numpy array 2d con shape(7,2) usando il metodo . resize(7,2)  che lavora in-place,  (cioè  modifica l'array esistente).  "
   ]
  },
  {
   "cell_type": "code",
   "execution_count": null,
   "id": "3d65cd14-4b6c-4e25-a2c8-3c9490d038f6",
   "metadata": {},
   "outputs": [],
   "source": [
    "arr = np.arange(15, 42, 2)\n",
    "print(\"arr:\", arr)\n",
    "arr.resize((7, 2))\n",
    "print(\"arr:\", arr)"
   ]
  },
  {
   "cell_type": "markdown",
   "id": "222a582d-184b-47b9-804b-72673a42102e",
   "metadata": {},
   "source": [
    " ## Esercizio 5\n",
    " Creare un array NumPy di 10 numeri interi casuali tra 1 e 100.\n",
    " "
   ]
  },
  {
   "cell_type": "code",
   "execution_count": null,
   "id": "ecdae200-f2e2-432c-a303-8005608c2ba7",
   "metadata": {},
   "outputs": [],
   "source": [
    "np.random.randint(1, 101, 10)"
   ]
  },
  {
   "cell_type": "markdown",
   "id": "26b0aef0-fa88-4ec5-923f-8fa9d0664044",
   "metadata": {},
   "source": [
    " ## Esercizio 6\n",
    " Eseguire uno shuffle degli elementi di un numpy-array di 30 numeri interi casuali tra 100 e 200.\n"
   ]
  },
  {
   "cell_type": "code",
   "execution_count": null,
   "id": "0ac6a650-7aa7-4e83-8000-c84d006b4fb2",
   "metadata": {
    "editable": true,
    "slideshow": {
     "slide_type": ""
    },
    "tags": []
   },
   "outputs": [],
   "source": [
    "arr = np.random.randint(100, 201, 30)\n",
    "print(\"arr:\", arr)\n",
    "np.random.shuffle(arr)\n",
    "print(\"arr:\", arr)"
   ]
  },
  {
   "cell_type": "markdown",
   "id": "9e1c800f-6ae8-41cc-94c0-c36445e2ea55",
   "metadata": {},
   "source": [
    "  ## Esercizio 7\n",
    " Creare una permutazione casuale degli elementi di un numpy-array di 20 valori campionati da una distribuzione  gaussiana con media zero e varianza 1, senza modificarlo."
   ]
  },
  {
   "cell_type": "code",
   "execution_count": null,
   "id": "c8bc52b7-f722-41bf-a9ac-5ea90ca5b383",
   "metadata": {},
   "outputs": [],
   "source": [
    "arr = np.random.randn(20)\n",
    "print(\"arr:\", arr)\n",
    "np.random.shuffle(arr)\n",
    "print(\"arr:\", arr)"
   ]
  },
  {
   "cell_type": "markdown",
   "id": "14fa94ab-ffd5-425a-8a18-f1b6d53bc87b",
   "metadata": {},
   "source": [
    " ## Esercizio 8\n",
    "-     Scrivere il numpy  array 2d, A, [[10,11,12],[13,14,15],[16,17,18]] \n",
    "-     trasformarlo in un numpy array 1d usando il metodo .ravel()  \n",
    "-     Si tratta di una copia o di una vista?"
   ]
  },
  {
   "cell_type": "code",
   "execution_count": null,
   "id": "c95c3d90-5112-469c-bec9-29594670e064",
   "metadata": {},
   "outputs": [],
   "source": [
    "A = np.arange(10, 19).reshape((3, 3))\n",
    "r = A.ravel()\n",
    "print(\"ravel:\", r)\n",
    "np.shares_memory(A, r) # true, quindi è una vista"
   ]
  },
  {
   "cell_type": "markdown",
   "id": "8cef420c-3ee7-487a-b872-83c1460e11fe",
   "metadata": {},
   "source": [
    "## Esercizio 9\n",
    "-     Scrivere il numpy  array 2d, A, [[10,11,12],[13,14,15],[16,17,18]] \n",
    "-     trasformarlo in un numpy array 1d usando il metodo  .flatten().\n",
    "-     Si tratta di una copia o di una vista?"
   ]
  },
  {
   "cell_type": "code",
   "execution_count": null,
   "id": "d0c33b63-d890-4962-b34a-3c75df171922",
   "metadata": {},
   "outputs": [],
   "source": [
    "A = np.arange(10, 19).reshape((3, 3))\n",
    "f = A.flatten()\n",
    "print(\"flatten:\", f)\n",
    "np.shares_memory(A, f) # false, quindi è una copia"
   ]
  },
  {
   "cell_type": "markdown",
   "id": "5b53dba2-eed1-40bd-a5c0-5208f1c120f0",
   "metadata": {},
   "source": [
    "## Esercizio 10\n",
    "- creare i due  numpy array 1d\n",
    "    f1= [ 0  1  2  3  4  5  6  7  8  9 10 11 12 13 14 15]  \n",
    "    f2= [16 17 18 19 20 21 22 23 24 25 26 27 28 29 30 31]\n",
    "- \"vederli\" come matrici  4x4 ed effettuarne il prodotto scalare, memorizzando in f3 la matrice che nasce dal loro prodotto."
   ]
  },
  {
   "cell_type": "code",
   "execution_count": null,
   "id": "c353f4c1-e554-4423-8e63-d0960fd16efe",
   "metadata": {},
   "outputs": [],
   "source": [
    "f1 = np.arange(0, 16)\n",
    "f2 = np.arange(16, 32)\n",
    "f3 = f1.reshape(4, 4) @ f2.reshape(4, 4)\n",
    "print(\"f1:\", f1)\n",
    "print(\"f2:\", f2)\n",
    "print(\"f3:\", f3)"
   ]
  },
  {
   "cell_type": "markdown",
   "id": "681aca16-584c-451f-b9da-cba4b11faa5e",
   "metadata": {},
   "source": [
    "## Esercizio 11\n",
    "Costruire:\n",
    " -     Numpy Array A di shape (2,10) : array di valori random campionati da una distribuzione gaussiana con media 0 e varianza 1.\n",
    " -     Numpy array 1D B di shape (20,) formato dagli interi da 0 a 19.\n",
    " \n",
    " \"Vedere\" A come un array 1D di 20 elementi ed effettuare la somma di A+B\n"
   ]
  },
  {
   "cell_type": "code",
   "execution_count": null,
   "id": "17af2ae0-ccb1-4e00-9f9b-10781be56bc1",
   "metadata": {},
   "outputs": [],
   "source": [
    "A = np.random.randn(20).reshape(2, 10)\n",
    "B = np.arange(0, 20)\n",
    "print(\"A:\", A)\n",
    "print(\"B:\", B)\n",
    "print(\"A + B\", A.ravel() + B)"
   ]
  },
  {
   "cell_type": "markdown",
   "id": "6d06e14b-5215-4525-a673-e9d30ac43704",
   "metadata": {},
   "source": [
    "## Esercizio 12\n",
    "-     Costruire f, un numpy array 1D , di shape (10,) costituito da 10 valori equidistanti nell'intervallo [0,1]\n",
    "-     aumentarne la dimensionalità, in maniera tale che abbia shape (10,1)"
   ]
  },
  {
   "cell_type": "code",
   "execution_count": null,
   "id": "6573294a-5e8b-44d0-af7e-31f9e2f9c2af",
   "metadata": {},
   "outputs": [],
   "source": [
    "f = np.linspace(0, 1, 10)\n",
    "print(\"f:\", f)\n",
    "f.resize((10, 1))\n",
    "print(\"f:\", f)"
   ]
  },
  {
   "cell_type": "markdown",
   "id": "d634778c-a30e-4f06-b390-bf6ccd503a52",
   "metadata": {},
   "source": [
    "## Esercizio 13\n",
    "-     Costruire i seguenti numpy array\n",
    "      a= np.array([14,13,12,11])\n",
    "      b=np.array([[4,3,2,1],[9,10,11,12]])\n",
    "\n",
    "  Costruire il numpy array che si ottiene concatenando a e b per righe"
   ]
  },
  {
   "cell_type": "code",
   "execution_count": null,
   "id": "a7fbb091-6196-490e-b6fa-1dfc13c283ed",
   "metadata": {},
   "outputs": [],
   "source": [
    "a = np.arange(14, 10, -1)"
   ]
  },
  {
   "cell_type": "markdown",
   "id": "11b26a22-22a8-4648-a4fc-e0bc09cd80a3",
   "metadata": {},
   "source": [
    "## Esercizio 14\n",
    "-     Costruire i seguenti numpy array\n",
    "      a= np.array([14,13,12,11])\n",
    "      b=np.array([[4,3,2,1],[9,10,11,12],[4,3,2,1],[9,10,11,12]])\n",
    "\n",
    "-\n",
    "- Costruire il numpy array che si ottiene concatenando a e b per colonne"
   ]
  },
  {
   "cell_type": "code",
   "execution_count": 30,
   "id": "ad0ee6d3-d23a-421e-afdc-27ac8dd1620e",
   "metadata": {},
   "outputs": [
    {
     "name": "stdout",
     "output_type": "stream",
     "text": [
      "a: [[14]\n",
      " [13]\n",
      " [12]\n",
      " [11]]\n",
      "b: [[ 4  3  2  1]\n",
      " [ 9 10 11 12]\n",
      " [ 4  3  2  1]\n",
      " [ 9 10 11 12]]\n",
      "c: [[14  4  3  2  1]\n",
      " [13  9 10 11 12]\n",
      " [12  4  3  2  1]\n",
      " [11  9 10 11 12]]\n"
     ]
    }
   ],
   "source": [
    "a = np.arange(14, 10, -1)\n",
    "b = np.array([[4,3,2,1],[9,10,11,12],[4,3,2,1],[9,10,11,12]])\n",
    "a.resize((a.size, 1))\n",
    "c = np.concatenate((a, b), axis=1)\n",
    "print(\"a:\", a)\n",
    "print(\"b:\", b)\n",
    "print(\"c:\", c)"
   ]
  },
  {
   "cell_type": "markdown",
   "id": "0cd10bd7-8d9e-4e99-827e-83cf83393782",
   "metadata": {},
   "source": [
    "## Esercizio 15\n",
    "Costruire, facendo uso di una sola riga di codice, la matrice A di ordine 10, che ha gli unici elementi diversi da zero, sulla diagonale principale, sulla codiagonale inferiore e sulla codiagonale superiore:\n",
    "\n",
    "elementi diagonali $A_{i,i}=10 \\quad$, i=1,20\n",
    "\n",
    "elementi nella codiagonale inferiore $A_{i-1,i}=-12, \\quad$ i=2,..,20, \n",
    "\n",
    "elementi nella codiagonale superiore $A_{i,i+1}=-2 \\quad$ i=1,..,19"
   ]
  },
  {
   "cell_type": "code",
   "execution_count": 5,
   "id": "12d9abbf-dacd-42a8-bfd4-ee2cb985d577",
   "metadata": {},
   "outputs": [
    {
     "name": "stdout",
     "output_type": "stream",
     "text": [
      "[[ 10.  -2.   0.   0.   0.   0.   0.   0.   0.   0.]\n",
      " [-12.  10.  -2.   0.   0.   0.   0.   0.   0.   0.]\n",
      " [  0. -12.  10.  -2.   0.   0.   0.   0.   0.   0.]\n",
      " [  0.   0. -12.  10.  -2.   0.   0.   0.   0.   0.]\n",
      " [  0.   0.   0. -12.  10.  -2.   0.   0.   0.   0.]\n",
      " [  0.   0.   0.   0. -12.  10.  -2.   0.   0.   0.]\n",
      " [  0.   0.   0.   0.   0. -12.  10.  -2.   0.   0.]\n",
      " [  0.   0.   0.   0.   0.   0. -12.  10.  -2.   0.]\n",
      " [  0.   0.   0.   0.   0.   0.   0. -12.  10.  -2.]\n",
      " [  0.   0.   0.   0.   0.   0.   0.   0. -12.  10.]]\n"
     ]
    }
   ],
   "source": [
    "A = (np.eye(10) * 10) + (np.eye(10, k=-1) * -12) + (np.eye(10, k=1) * -2)\n",
    "print(A)"
   ]
  },
  {
   "cell_type": "markdown",
   "id": "53d3ad23-63ab-4719-b2d2-f2b1cb942063",
   "metadata": {},
   "source": [
    "## Esercizio 16\n",
    "Costruire la matrice identità, denominata *I*,  della stessa dimensione di *A*"
   ]
  },
  {
   "cell_type": "code",
   "execution_count": 3,
   "id": "3d9ab5aa-2abd-43d1-b81d-fdbaf646f638",
   "metadata": {},
   "outputs": [
    {
     "name": "stdout",
     "output_type": "stream",
     "text": [
      "[[1. 0. 0. 0. 0. 0. 0. 0. 0. 0.]\n",
      " [0. 1. 0. 0. 0. 0. 0. 0. 0. 0.]\n",
      " [0. 0. 1. 0. 0. 0. 0. 0. 0. 0.]\n",
      " [0. 0. 0. 1. 0. 0. 0. 0. 0. 0.]\n",
      " [0. 0. 0. 0. 1. 0. 0. 0. 0. 0.]\n",
      " [0. 0. 0. 0. 0. 1. 0. 0. 0. 0.]\n",
      " [0. 0. 0. 0. 0. 0. 1. 0. 0. 0.]\n",
      " [0. 0. 0. 0. 0. 0. 0. 1. 0. 0.]\n",
      " [0. 0. 0. 0. 0. 0. 0. 0. 1. 0.]\n",
      " [0. 0. 0. 0. 0. 0. 0. 0. 0. 1.]]\n"
     ]
    }
   ],
   "source": [
    "I = np.identity(10)\n",
    "print(I)"
   ]
  },
  {
   "cell_type": "markdown",
   "id": "b5257ffc-b9c9-4d22-a3b4-427b03f2e8dc",
   "metadata": {},
   "source": [
    "## Esercizio 17\n",
    "Facendo uso dell'operatore slicing *:* ,costruire la matrice AA selezionando dalla matrice A le righe che vanno dalla 2 alla 9 con step 2 e le colonne che vanno dalla 3 alla 6 con step 2.\n",
    "La matrice AA è una vista o una copia?"
   ]
  },
  {
   "cell_type": "code",
   "execution_count": 6,
   "id": "3f5fc809-8ea4-4cad-af69-4b33ef7cbe4b",
   "metadata": {},
   "outputs": [
    {
     "name": "stdout",
     "output_type": "stream",
     "text": [
      "[[ -2.   0.]\n",
      " [-12.  -2.]\n",
      " [  0. -12.]\n",
      " [  0.   0.]]\n"
     ]
    }
   ],
   "source": [
    "AA = A[2:10:2,3:7:2]\n",
    "print(AA)"
   ]
  },
  {
   "cell_type": "markdown",
   "id": "090aeaa9-fb12-44bc-9560-5b11a0e6f503",
   "metadata": {},
   "source": [
    "## Esercizio 18\n",
    "Facendo uso dell'operatore slicing *:*, costruire la matrice A1 selezionando dalla matrice A le colonne che vanno dalla 1 alla 5 con step 2.  Trasforma la matrice A1 in una copia."
   ]
  },
  {
   "cell_type": "code",
   "execution_count": 10,
   "id": "44a44efb-7214-4759-b435-4fbb00732834",
   "metadata": {},
   "outputs": [
    {
     "name": "stdout",
     "output_type": "stream",
     "text": [
      "[[ -2.   0.   0.]\n",
      " [ 10.   0.   0.]\n",
      " [-12.  -2.   0.]\n",
      " [  0.  10.   0.]\n",
      " [  0. -12.  -2.]\n",
      " [  0.   0.  10.]\n",
      " [  0.   0. -12.]\n",
      " [  0.   0.   0.]\n",
      " [  0.   0.   0.]\n",
      " [  0.   0.   0.]]\n",
      "False\n"
     ]
    }
   ],
   "source": [
    "A1 = A[:,1:6:2].copy()\n",
    "print(A1)\n",
    "print(np.shares_memory(A1, A))"
   ]
  },
  {
   "cell_type": "markdown",
   "id": "a5449d1f-1232-4ba0-a2d6-4d2e2d9c7a36",
   "metadata": {},
   "source": [
    "## Esercizio 19\n",
    "\n",
    "Costruisci due numpy array A e B di shape (5,5) \n",
    "   - A formata da numeri interi casuali  nell'intervallo [1,20]\n",
    "   - B formata da numeri interi casuali  nell'intervallo [1,6]\n",
    " \n",
    "  Costruisci con una sola riga di codice le seguenti matrici\n",
    "  \n",
    "  C=A+B   dove  $\\quad c_{ij}=a_{ij}+b_{ij} \\quad i=0,..,n, \\quad j=0,...,n$\n",
    "  \n",
    "  D=A-B   dove  $\\quad d_{ij}=a_{ij}-b_{ij} \\quad i=0,..,n, \\quad j=0,...,n$\n",
    "  \n",
    "  E=A*B   dove  $\\quad e_{ij}=a_{ij}*b_{ij} \\quad i=0,..,n, \\quad j=0,...,n$\n",
    "  \n",
    "  F=A/B   dove  $\\quad f_{ij}=a_{ij}/b_{ij} \\quad i=0,..,n, \\quad j=0,...,n$"
   ]
  },
  {
   "cell_type": "code",
   "execution_count": 17,
   "id": "d35e8c08-dd9c-44ba-8ee3-3e7f819ea2e0",
   "metadata": {},
   "outputs": [
    {
     "name": "stdout",
     "output_type": "stream",
     "text": [
      "A: [[17 11  9  2  3]\n",
      " [ 7 17  5 13  4]\n",
      " [15 13 14 18  2]\n",
      " [ 1 20 15  5 13]\n",
      " [18 17  6  9 12]]\n",
      "B: [[6 4 3 3 1]\n",
      " [2 1 3 5 3]\n",
      " [5 1 3 6 1]\n",
      " [1 5 3 1 6]\n",
      " [2 4 5 3 5]]\n",
      "C: [[23 15 12  5  4]\n",
      " [ 9 18  8 18  7]\n",
      " [20 14 17 24  3]\n",
      " [ 2 25 18  6 19]\n",
      " [20 21 11 12 17]]\n",
      "D: [[11  7  6 -1  2]\n",
      " [ 5 16  2  8  1]\n",
      " [10 12 11 12  1]\n",
      " [ 0 15 12  4  7]\n",
      " [16 13  1  6  7]]\n",
      "E: [[102  44  27   6   3]\n",
      " [ 14  17  15  65  12]\n",
      " [ 75  13  42 108   2]\n",
      " [  1 100  45   5  78]\n",
      " [ 36  68  30  27  60]]\n",
      "F: [[ 2.83333333  2.75        3.          0.66666667  3.        ]\n",
      " [ 3.5        17.          1.66666667  2.6         1.33333333]\n",
      " [ 3.         13.          4.66666667  3.          2.        ]\n",
      " [ 1.          4.          5.          5.          2.16666667]\n",
      " [ 9.          4.25        1.2         3.          2.4       ]]\n"
     ]
    }
   ],
   "source": [
    "A = np.random.randint(1, 21, (5, 5))\n",
    "B = np.random.randint(1, 7, (5, 5))\n",
    "C = A + B\n",
    "D = A - B\n",
    "E = A * B\n",
    "F = A / B\n",
    "print(\"A:\", A)\n",
    "print(\"B:\", B)\n",
    "print(\"C:\", C)\n",
    "print(\"D:\", D)\n",
    "print(\"E:\", E)\n",
    "print(\"F:\", F)"
   ]
  },
  {
   "cell_type": "markdown",
   "id": "93176797-ea16-4b09-8b5e-de514cbca2e9",
   "metadata": {},
   "source": [
    "## Esercizio 20\n",
    "Dato array NumPy che rappresenta le vendite giornaliere di un negozio per un mese,\n",
    "vendite = np.random.randint(50, 200, 30) \n",
    "\n",
    "        Trova tutti i giorni in cui le vendite sono state superiori a 150.\n",
    "\n",
    "        Calcola la media delle vendite solo per i giorni in cui sono state superiori a 150.\n",
    "\n",
    "        Imposta le vendite a 0 per tutti i giorni in cui sono state inferiori a 100.\n"
   ]
  },
  {
   "cell_type": "code",
   "execution_count": 19,
   "id": "bea18e4b-0d6b-4e4e-9d25-d2a4141bef48",
   "metadata": {},
   "outputs": [
    {
     "name": "stdout",
     "output_type": "stream",
     "text": [
      "vendite: [161  75 104 150 131 179 120 114 156  91  51  61 100  72  58 155  84  52\n",
      " 114 149  78 109 112  85  91 120  56 143 166  87]\n",
      "vendite (> 150): [161  75 104 150 131 179 120 114 156  91  51  61 100  72  58 155  84  52\n",
      " 114 149  78 109 112  85  91 120  56 143 166  87]\n",
      "media (> 150): 163.4\n",
      "vendite (< 100 = 0): [161   0 104 150 131 179 120 114 156   0   0   0 100   0   0 155   0   0\n",
      " 114 149   0 109 112   0   0 120   0 143 166   0]\n"
     ]
    }
   ],
   "source": [
    "vendite = np.random.randint(50, 200, 30)\n",
    "print(\"vendite:\", vendite)\n",
    "vendite_alte = vendite[vendite > 150]\n",
    "print(\"vendite (> 150):\", vendite)\n",
    "media = np.mean(vendite_alte)\n",
    "print(\"media (> 150):\", media)\n",
    "vendite[vendite < 100] = 0\n",
    "print(\"vendite (< 100 = 0):\", vendite)"
   ]
  },
  {
   "cell_type": "markdown",
   "id": "d90da717-8cd5-425f-937e-588d6ccb045a",
   "metadata": {
    "tags": []
   },
   "source": [
    "## Esercizio 21\n",
    "Costruisci A, un numpy array 2d di shape (3,3) e b,  un numpy array 2d di shape (3,1)\n",
    "e somma b ad ogni colonna di A b\n"
   ]
  },
  {
   "cell_type": "code",
   "execution_count": 32,
   "id": "96a1f4fb-8adb-4f5d-b095-95975a7e3d87",
   "metadata": {},
   "outputs": [
    {
     "name": "stdout",
     "output_type": "stream",
     "text": [
      "A: [[2 8 1]\n",
      " [8 3 8]\n",
      " [0 9 7]]\n",
      "B: [[0]\n",
      " [3]\n",
      " [2]]\n",
      "sum: [[ 2  8  1]\n",
      " [11  6 11]\n",
      " [ 2 11  9]]\n"
     ]
    }
   ],
   "source": [
    "A = np.random.randint(0, 10, (3,3))\n",
    "B = np.random.randint(0, 10, (3,1))\n",
    "sum = A + B # numpy does it automatically\n",
    "print(\"A:\", A)\n",
    "print(\"B:\", B)\n",
    "print(\"sum:\", sum)"
   ]
  },
  {
   "cell_type": "markdown",
   "id": "2b182b28-bf50-4b28-89e6-9108b59980f7",
   "metadata": {},
   "source": [
    "# Esercizio 22\n",
    "dato il numpy array 2d G=np.linspace(0,10,20).reshape(-1,4), scambia in G la seconda riga con la quarta riga"
   ]
  },
  {
   "cell_type": "code",
   "execution_count": 34,
   "id": "5eba5f31-a273-4fc5-a88e-c1b04038b0e9",
   "metadata": {},
   "outputs": [
    {
     "name": "stdout",
     "output_type": "stream",
     "text": [
      "G: [[ 0.          0.52631579  1.05263158  1.57894737]\n",
      " [ 2.10526316  2.63157895  3.15789474  3.68421053]\n",
      " [ 4.21052632  4.73684211  5.26315789  5.78947368]\n",
      " [ 6.31578947  6.84210526  7.36842105  7.89473684]\n",
      " [ 8.42105263  8.94736842  9.47368421 10.        ]]\n",
      "G: [[ 0.          0.52631579  1.05263158  1.57894737]\n",
      " [ 6.31578947  6.84210526  7.36842105  7.89473684]\n",
      " [ 4.21052632  4.73684211  5.26315789  5.78947368]\n",
      " [ 6.31578947  6.84210526  7.36842105  7.89473684]\n",
      " [ 8.42105263  8.94736842  9.47368421 10.        ]]\n"
     ]
    }
   ],
   "source": [
    "G = np.linspace(0, 10, 20).reshape(-1, 4)\n",
    "print(\"G:\", G)\n",
    "G[1], G[3] = G[3], G[1]\n",
    "print(\"G:\", G)"
   ]
  },
  {
   "cell_type": "markdown",
   "id": "a2c733be-fc9f-4a0a-80e0-fa1570468da3",
   "metadata": {},
   "source": [
    "## Esercizio 23\n",
    "Visualizzare il grafico della funzione $f(x)=sin^2(x)/x$ in 200 punti equidistanti nell'intervallo $[0.1,2\\pi]$"
   ]
  },
  {
   "cell_type": "code",
   "execution_count": 36,
   "id": "56811f23-2426-4265-b0a0-534fb4d19f43",
   "metadata": {},
   "outputs": [
    {
     "data": {
      "image/png": "[encoded data removed]",
      "text/plain": [
       "<Figure size 640x480 with 1 Axes>"
      ]
     },
     "metadata": {},
     "output_type": "display_data"
    }
   ],
   "source": [
    "x = np.linspace(0.1, 2 * np.pi, 200)\n",
    "f = lambda x: (np.sin(x) ** 2) / x\n",
    "\n",
    "plt.plot(x, f(x), \"r\")\n",
    "plt.grid(True)\n",
    "plt.xlabel(\"x\")\n",
    "plt.ylabel(\"f(x)\")\n",
    "plt.title('f(x)=sin^2(x)/x')\n",
    "plt.show()"
   ]
  },
  {
   "cell_type": "markdown",
   "id": "32f6ae8b-ccce-47f1-b196-820a96c325fd",
   "metadata": {},
   "source": [
    "## Esercizio 24\n",
    "\n",
    "Data il numpy arra2d ottenuto facendo un reshape a (4,4) di un numpy array 1d di 16 valori equidistanti nell'intervallo [0,4]\n",
    "ed un numpy array 1d di 4 valori  interi casuali nell'intervallo [10,60], costruire il prodotto scalare A per b,\n",
    "usando A@b, e vettorizzando solo il ciclo interno.\n"
   ]
  },
  {
   "cell_type": "code",
   "execution_count": 40,
   "id": "821eda57-8675-4a30-a35e-829c62aca479",
   "metadata": {},
   "outputs": [
    {
     "name": "stdout",
     "output_type": "stream",
     "text": [
      "prodotto: [ 65.6 244.8 424.  603.2]\n"
     ]
    }
   ],
   "source": [
    "A = np.linspace(0, 4, 16).reshape((4, 4))\n",
    "B = np.random.randint(10, 61, 4)\n",
    "print(\"prodotto:\", A @ B)"
   ]
  },
  {
   "cell_type": "markdown",
   "id": "fb626777-c3f2-423b-a01b-c9e80032e308",
   "metadata": {},
   "source": [
    "## Esercizio 25\n",
    "Dato g un numpy array 2d, estendilo di una riga in alto ed di una riga in basso, di una colonna a sinistra ed di una colonna a destra, usa la funzione g_est= np.pad(g,(1,1),mode='reflect'). Visualizza 'g_est' e commenta cosa vedi."
   ]
  },
  {
   "cell_type": "code",
   "execution_count": 46,
   "id": "2236ba53-7c1c-4b81-aa3d-f6bfb7a2cc7a",
   "metadata": {},
   "outputs": [
    {
     "name": "stdout",
     "output_type": "stream",
     "text": [
      "[[ 5  4  5  6  7  6]\n",
      " [ 1  0  1  2  3  2]\n",
      " [ 5  4  5  6  7  6]\n",
      " [ 9  8  9 10 11 10]\n",
      " [13 12 13 14 15 14]\n",
      " [ 9  8  9 10 11 10]]\n"
     ]
    }
   ],
   "source": [
    "g = np.arange(16).reshape(4, 4)\n",
    "g_est = np.pad(g, (1, 1), mode=\"reflect\")\n",
    "print(g_est)"
   ]
  },
  {
   "cell_type": "markdown",
   "id": "958c2100-787e-438b-a162-0aa08465f476",
   "metadata": {},
   "source": [
    "## Esercizio 26\n",
    "Scrivi un programma Python che esegua l'elaborazione di un'immagine utilizzando un filtro di media. \n",
    "\n",
    "Utilizza il padding per gestire i pixel del bordo durante l'applicazione del filtro.\n",
    "\n",
    "Il programma deve seguire questi passaggi:\n",
    "\n",
    "- Carica l'immagine: Carica l'immagine 'cameraman.png' utilizzando la libreria Matplotlib.**image=plt.imread('cameraman.png')**\n",
    "- Visualizza l'immagine originale **plt.imshow(image,cmap='gray')**\n",
    "- definisce la dimensione del filtro, dim_filtro\n",
    "- Applica il padding: Applica un padding costante di dim_filtro//2 pixel a tutti i bordi dell'immagine (utilizzando il metodo di numpy **image_bordered=np.pad(image,(dim_filtro//2,dim_filtro//2),, mode='reflect')**\n",
    "- Crea il filtro di media: Crea un filtro di media di dimensioni *dim_filtroxdim_filtro*, dove tutti gli elementi sono pari a 1/(dim_filtroxdim_filtro)\n",
    "- Applica il filtro: Scorri ogni pixel dell'immagine con padding (escludendo i bordi aggiunti) e applica il filtro di media.\n",
    "\n",
    "   *Per ogni pixel, calcola la somma dei prodotti tra i pixel della sottomatrice dim_filtroxdim_filtro centrata sul pixel corrente e il filtro.*\n",
    "   \n",
    "- Crea l'immagine filtrata: Crea un nuovo array NumPy che rappresenta l'immagine filtrata, dove ogni pixel contiene il risultato dell'applicazione del filtro.\n",
    "- Visualizza l'immagine filtrata: Visualizza l'immagine filtrata utilizzando Matplotlib con la mappa di colori 'gray'.\n",
    "- Aggiungi una colorbar per visualizzare la scala dei valori dell'immagine filtrata.\n",
    "- Mostra l'immagine filtrata con Matplotlib.\n",
    "\n",
    "\n",
    "Requisiti:\n",
    "\n",
    "-  Utilizzare la libreria Matplotlib per caricare e visualizzare l'immagine.\n",
    "-  Utilizzare la libreria NumPy per la manipolazione degli array e per il padding."
   ]
  }
 ],
 "metadata": {
  "kernelspec": {
   "display_name": "Python 3 (ipykernel)",
   "language": "python",
   "name": "python3"
  },
  "language_info": {
   "codemirror_mode": {
    "name": "ipython",
    "version": 3
   },
   "file_extension": ".py",
   "mimetype": "text/x-python",
   "name": "python",
   "nbconvert_exporter": "python",
   "pygments_lexer": "ipython3",
   "version": "3.13.2"
  }
 },
 "nbformat": 4,
 "nbformat_minor": 5
}

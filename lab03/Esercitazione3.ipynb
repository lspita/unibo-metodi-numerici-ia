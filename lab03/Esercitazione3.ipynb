{
 "cells": [
  {
   "cell_type": "markdown",
   "id": "2f16cd51-b728-47c0-b39e-f22777b738f3",
   "metadata": {},
   "source": [
    "# Esercitazione 4 Marzo 2025"
   ]
  },
  {
   "cell_type": "code",
   "execution_count": 1,
   "id": "5e2761f8-27b2-4fd8-84b3-6be5d541e1d8",
   "metadata": {
    "editable": true,
    "slideshow": {
     "slide_type": ""
    },
    "tags": []
   },
   "outputs": [],
   "source": [
    "import numpy as np\n",
    "import matplotlib.pyplot as plt\n",
    "import math\n",
    "import time"
   ]
  },
  {
   "cell_type": "markdown",
   "id": "cea7be83-908f-4132-b3df-6eb9633855a9",
   "metadata": {
    "editable": true,
    "slideshow": {
     "slide_type": ""
    },
    "tags": []
   },
   "source": [
    "## Esercizio 1\n",
    "- Costruire due array numpy-array 2d di dimensione 5000x5000 i cui valori sono campionati da una distribuzione gaussiana con media 0 e varianza 1.\n",
    "- Effetuare la somma tra le due matrici con due metodi:\n",
    "\n",
    "        -  utilizzando le operazioni vettoriali \n",
    "        -  considerando due cicli espliciti annidati, su righe e colonne\n",
    "- Confrontare le prestazioni in termini di tempo di esecuzione.\n",
    "        \n"
   ]
  },
  {
   "cell_type": "code",
   "execution_count": 2,
   "id": "f61329b9-ed0a-406f-8d88-dbbb4bdedd95",
   "metadata": {
    "editable": true,
    "slideshow": {
     "slide_type": ""
    },
    "tags": []
   },
   "outputs": [
    {
     "name": "stdout",
     "output_type": "stream",
     "text": [
      "Somma vettoriale [s]: 0.9053356647491455\n",
      "Somma loop [s]: 16.55224347114563\n"
     ]
    }
   ],
   "source": [
    "arr1 = np.random.randn(5000, 5000)\n",
    "arr2 = np.random.randn(5000, 5000)\n",
    "start = time.time()\n",
    "res_vet = arr1 + arr2\n",
    "print(\"Somma vettoriale [s]:\", time.time() - start)\n",
    "start = time.time()\n",
    "res_loop = np.zeros_like(arr1)\n",
    "for i in range(arr1.shape[0]):\n",
    "    for j in range(arr1.shape[1]):\n",
    "        res_loop[i][j] = arr1[i][j] + arr2[i][j]\n",
    "print(\"Somma loop [s]:\", time.time() - start)"
   ]
  },
  {
   "cell_type": "markdown",
   "id": "2cc104af-5376-4b18-9945-9316885a30ed",
   "metadata": {},
   "source": [
    "## Esercizio 2\n",
    "-      Costruire il numpy array  s  formato da 40 valori equidistanti in  [0,20],\n",
    "-      considerarne il reshape in un array 2d che ha 4 righe con un numero opportuno di colonne e dire se il reshape crea una vista o una copia"
   ]
  },
  {
   "cell_type": "code",
   "execution_count": 15,
   "id": "86695575-7ca1-497a-b803-c31dfd7305ce",
   "metadata": {},
   "outputs": [
    {
     "name": "stdout",
     "output_type": "stream",
     "text": [
      "reshape: [[ 0.          0.51282051  1.02564103  1.53846154  2.05128205  2.56410256\n",
      "   3.07692308  3.58974359  4.1025641   4.61538462]\n",
      " [ 5.12820513  5.64102564  6.15384615  6.66666667  7.17948718  7.69230769\n",
      "   8.20512821  8.71794872  9.23076923  9.74358974]\n",
      " [10.25641026 10.76923077 11.28205128 11.79487179 12.30769231 12.82051282\n",
      "  13.33333333 13.84615385 14.35897436 14.87179487]\n",
      " [15.38461538 15.8974359  16.41025641 16.92307692 17.43589744 17.94871795\n",
      "  18.46153846 18.97435897 19.48717949 20.        ]]\n"
     ]
    },
    {
     "data": {
      "text/plain": [
       "True"
      ]
     },
     "execution_count": 15,
     "metadata": {},
     "output_type": "execute_result"
    }
   ],
   "source": [
    "s = np.linspace(0, 20, 40)\n",
    "r = s.reshape((4, -1))\n",
    "print(\"reshape:\", r)\n",
    "np.shares_memory(s, r) # true, quindi è una vista"
   ]
  },
  {
   "cell_type": "markdown",
   "id": "8984c411-28fa-4590-9942-3d6d5bc5c665",
   "metadata": {},
   "source": [
    "## Esercizio 3\n",
    "-     Costruire il numpy array t formato da 100 valori equidistanti in  [0,4]\n",
    "-     considerarne il reshape in un array 2d che ha 4 colonne con un numero opportuno di righe"
   ]
  },
  {
   "cell_type": "code",
   "execution_count": 4,
   "id": "731c4312-330b-4902-8a65-a5c4a6330df4",
   "metadata": {},
   "outputs": [
    {
     "name": "stdout",
     "output_type": "stream",
     "text": [
      "reshape: [[0.         0.05050505 0.1010101  0.15151515 0.2020202  0.25252525\n",
      "  0.3030303  0.35353535 0.4040404  0.45454545 0.50505051 0.55555556\n",
      "  0.60606061 0.65656566 0.70707071 0.75757576 0.80808081 0.85858586\n",
      "  0.90909091 0.95959596 1.01010101 1.06060606 1.11111111 1.16161616\n",
      "  1.21212121]\n",
      " [1.26262626 1.31313131 1.36363636 1.41414141 1.46464646 1.51515152\n",
      "  1.56565657 1.61616162 1.66666667 1.71717172 1.76767677 1.81818182\n",
      "  1.86868687 1.91919192 1.96969697 2.02020202 2.07070707 2.12121212\n",
      "  2.17171717 2.22222222 2.27272727 2.32323232 2.37373737 2.42424242\n",
      "  2.47474747]\n",
      " [2.52525253 2.57575758 2.62626263 2.67676768 2.72727273 2.77777778\n",
      "  2.82828283 2.87878788 2.92929293 2.97979798 3.03030303 3.08080808\n",
      "  3.13131313 3.18181818 3.23232323 3.28282828 3.33333333 3.38383838\n",
      "  3.43434343 3.48484848 3.53535354 3.58585859 3.63636364 3.68686869\n",
      "  3.73737374]\n",
      " [3.78787879 3.83838384 3.88888889 3.93939394 3.98989899 4.04040404\n",
      "  4.09090909 4.14141414 4.19191919 4.24242424 4.29292929 4.34343434\n",
      "  4.39393939 4.44444444 4.49494949 4.54545455 4.5959596  4.64646465\n",
      "  4.6969697  4.74747475 4.7979798  4.84848485 4.8989899  4.94949495\n",
      "  5.        ]]\n"
     ]
    }
   ],
   "source": [
    "t = np.linspace(0, 5, 100)\n",
    "r = t.reshape((4, -1))\n",
    "print(\"reshape:\", r)"
   ]
  },
  {
   "cell_type": "markdown",
   "id": "497ccc48-1ab8-4247-8e36-0c61e43c643c",
   "metadata": {},
   "source": [
    "## Esercizio 4\n",
    "Costruire il numpy array 1d C  di valori che variano tra 15 e 41 con step 2\n",
    "\n",
    "-     Trasformarlo in un numpy array 2d con shape(7,2) usando il metodo . resize(7,2)  che lavora in-place,  (cioè  modifica l'array esistente).  "
   ]
  },
  {
   "cell_type": "code",
   "execution_count": 5,
   "id": "3d65cd14-4b6c-4e25-a2c8-3c9490d038f6",
   "metadata": {},
   "outputs": [
    {
     "name": "stdout",
     "output_type": "stream",
     "text": [
      "arr: [15 17 19 21 23 25 27 29 31 33 35 37 39 41]\n",
      "arr: [[15 17]\n",
      " [19 21]\n",
      " [23 25]\n",
      " [27 29]\n",
      " [31 33]\n",
      " [35 37]\n",
      " [39 41]]\n"
     ]
    }
   ],
   "source": [
    "arr = np.arange(15, 42, 2)\n",
    "print(\"arr:\", arr)\n",
    "arr.resize((7, 2))\n",
    "print(\"arr:\", arr)"
   ]
  },
  {
   "cell_type": "markdown",
   "id": "222a582d-184b-47b9-804b-72673a42102e",
   "metadata": {},
   "source": [
    " ## Esercizio 5\n",
    " Creare un array NumPy di 10 numeri interi casuali tra 1 e 100.\n",
    " "
   ]
  },
  {
   "cell_type": "code",
   "execution_count": 6,
   "id": "ecdae200-f2e2-432c-a303-8005608c2ba7",
   "metadata": {},
   "outputs": [
    {
     "data": {
      "text/plain": [
       "array([37, 50, 52, 91,  6, 86, 73, 10,  6, 50])"
      ]
     },
     "execution_count": 6,
     "metadata": {},
     "output_type": "execute_result"
    }
   ],
   "source": [
    "np.random.randint(1, 101, 10)"
   ]
  },
  {
   "cell_type": "markdown",
   "id": "26b0aef0-fa88-4ec5-923f-8fa9d0664044",
   "metadata": {},
   "source": [
    " ## Esercizio 6\n",
    " Eseguire uno shuffle degli elementi di un numpy-array di 30 numeri interi casuali tra 100 e 200.\n"
   ]
  },
  {
   "cell_type": "code",
   "execution_count": 7,
   "id": "0ac6a650-7aa7-4e83-8000-c84d006b4fb2",
   "metadata": {
    "editable": true,
    "slideshow": {
     "slide_type": ""
    },
    "tags": []
   },
   "outputs": [
    {
     "name": "stdout",
     "output_type": "stream",
     "text": [
      "arr: [156 131 161 100 182 136 108 183 176 111 167 118 110 125 148 158 140 168\n",
      " 127 182 153 165 127 147 139 178 134 161 156 187]\n",
      "arr: [156 161 108 153 100 148 127 182 167 161 176 110 134 140 156 183 187 158\n",
      " 131 125 165 182 136 127 168 178 118 147 111 139]\n"
     ]
    }
   ],
   "source": [
    "arr = np.random.randint(100, 201, 30)\n",
    "print(\"arr:\", arr)\n",
    "np.random.shuffle(arr)\n",
    "print(\"arr:\", arr)"
   ]
  },
  {
   "cell_type": "markdown",
   "id": "9e1c800f-6ae8-41cc-94c0-c36445e2ea55",
   "metadata": {},
   "source": [
    "  ## Esercizio 7\n",
    " Creare una permutazione casuale degli elementi di un numpy-array di 20 valori campionati da una distribuzione  gaussiana con media zero e varianza 1, senza modificarlo."
   ]
  },
  {
   "cell_type": "code",
   "execution_count": 8,
   "id": "c8bc52b7-f722-41bf-a9ac-5ea90ca5b383",
   "metadata": {},
   "outputs": [
    {
     "name": "stdout",
     "output_type": "stream",
     "text": [
      "arr: [-0.56376868  1.04145301  0.12272748 -1.35108157  0.50885789 -0.32553304\n",
      "  1.0600147  -0.28283554  0.37874167  1.11481842  2.36475852 -0.54945521\n",
      "  0.66718577  0.50905059 -0.61911064  1.85364069  0.06757279 -1.13145833\n",
      " -2.22571159  0.01655933]\n",
      "arr: [-0.61911064  1.0600147   0.06757279  1.11481842  2.36475852  0.12272748\n",
      " -0.56376868 -0.32553304 -0.28283554  1.85364069 -1.13145833 -2.22571159\n",
      " -0.54945521  0.01655933  0.50905059  0.37874167 -1.35108157  0.50885789\n",
      "  1.04145301  0.66718577]\n"
     ]
    }
   ],
   "source": [
    "arr = np.random.randn(20)\n",
    "print(\"arr:\", arr)\n",
    "np.random.shuffle(arr)\n",
    "print(\"arr:\", arr)"
   ]
  },
  {
   "cell_type": "markdown",
   "id": "14fa94ab-ffd5-425a-8a18-f1b6d53bc87b",
   "metadata": {},
   "source": [
    " ## Esercizio 8\n",
    "-     Scrivere il numpy  array 2d, A, [[10,11,12],[13,14,15],[16,17,18]] \n",
    "-     trasformarlo in un numpy array 1d usando il metodo .ravel()  \n",
    "-     Si tratta di una copia o di una vista?"
   ]
  },
  {
   "cell_type": "code",
   "execution_count": 16,
   "id": "c95c3d90-5112-469c-bec9-29594670e064",
   "metadata": {},
   "outputs": [
    {
     "name": "stdout",
     "output_type": "stream",
     "text": [
      "ravel: [10 11 12 13 14 15 16 17 18]\n"
     ]
    },
    {
     "data": {
      "text/plain": [
       "True"
      ]
     },
     "execution_count": 16,
     "metadata": {},
     "output_type": "execute_result"
    }
   ],
   "source": [
    "A = np.arange(10, 19).reshape((3, 3))\n",
    "r = A.ravel()\n",
    "print(\"ravel:\", r)\n",
    "np.shares_memory(A, r) # true, quindi è una vista"
   ]
  },
  {
   "cell_type": "markdown",
   "id": "8cef420c-3ee7-487a-b872-83c1460e11fe",
   "metadata": {},
   "source": [
    "## Esercizio 9\n",
    "-     Scrivere il numpy  array 2d, A, [[10,11,12],[13,14,15],[16,17,18]] \n",
    "-     trasformarlo in un numpy array 1d usando il metodo  .flatten().\n",
    "-     Si tratta di una copia o di una vista?"
   ]
  },
  {
   "cell_type": "code",
   "execution_count": 17,
   "id": "d0c33b63-d890-4962-b34a-3c75df171922",
   "metadata": {},
   "outputs": [
    {
     "name": "stdout",
     "output_type": "stream",
     "text": [
      "flatten: [10 11 12 13 14 15 16 17 18]\n"
     ]
    },
    {
     "data": {
      "text/plain": [
       "False"
      ]
     },
     "execution_count": 17,
     "metadata": {},
     "output_type": "execute_result"
    }
   ],
   "source": [
    "A = np.arange(10, 19).reshape((3, 3))\n",
    "f = A.flatten()\n",
    "print(\"flatten:\", f)\n",
    "np.shares_memory(A, f) # false, quindi è una copia"
   ]
  },
  {
   "cell_type": "markdown",
   "id": "5b53dba2-eed1-40bd-a5c0-5208f1c120f0",
   "metadata": {},
   "source": [
    "## Esercizio 10\n",
    "- creare i due  numpy array 1d\n",
    "    f1= [ 0  1  2  3  4  5  6  7  8  9 10 11 12 13 14 15]  \n",
    "    f2= [16 17 18 19 20 21 22 23 24 25 26 27 28 29 30 31]\n",
    "- \"vederli\" come matrici  4x4 ed effettuarne il prodotto scalare, memorizzando in f3 la matrice che nasce dal loro prodotto."
   ]
  },
  {
   "cell_type": "code",
   "execution_count": 22,
   "id": "c353f4c1-e554-4423-8e63-d0960fd16efe",
   "metadata": {},
   "outputs": [
    {
     "name": "stdout",
     "output_type": "stream",
     "text": [
      "f1: [ 0  1  2  3  4  5  6  7  8  9 10 11 12 13 14 15]\n",
      "f2: [16 17 18 19 20 21 22 23 24 25 26 27 28 29 30 31]\n",
      "f3: [[ 152  158  164  170]\n",
      " [ 504  526  548  570]\n",
      " [ 856  894  932  970]\n",
      " [1208 1262 1316 1370]]\n"
     ]
    }
   ],
   "source": [
    "f1 = np.arange(0, 16)\n",
    "f2 = np.arange(16, 32)\n",
    "f3 = f1.reshape(4, 4) @ f2.reshape(4, 4)\n",
    "print(\"f1:\", f1)\n",
    "print(\"f2:\", f2)\n",
    "print(\"f3:\", f3)"
   ]
  },
  {
   "cell_type": "markdown",
   "id": "681aca16-584c-451f-b9da-cba4b11faa5e",
   "metadata": {},
   "source": [
    "## Esercizio 11\n",
    "Costruire:\n",
    " -     Numpy Array A di shape (2,10) : array di valori random campionati da una distribuzione gaussiana con media 0 e varianza 1.\n",
    " -     Numpy array 1D B di shape (20,) formato dagli interi da 0 a 19.\n",
    " \n",
    " \"Vedere\" A come un array 1D di 20 elementi ed effettuare la somma di A+B\n"
   ]
  },
  {
   "cell_type": "code",
   "execution_count": 23,
   "id": "17af2ae0-ccb1-4e00-9f9b-10781be56bc1",
   "metadata": {},
   "outputs": [
    {
     "name": "stdout",
     "output_type": "stream",
     "text": [
      "A: [[ 0.21882143 -0.01921964  0.45263732 -0.42395004 -0.03855634 -0.88569549\n",
      "  -0.69225932 -1.07372562  0.5364003  -0.68532918]\n",
      " [-0.1217307  -1.94403632  0.0265     -0.62270865 -0.28432317 -1.07850911\n",
      "  -1.56852032 -0.27282048 -0.83036434 -0.30485888]]\n",
      "B: [ 0  1  2  3  4  5  6  7  8  9 10 11 12 13 14 15 16 17 18 19]\n",
      "A + B [ 0.21882143  0.98078036  2.45263732  2.57604996  3.96144366  4.11430451\n",
      "  5.30774068  5.92627438  8.5364003   8.31467082  9.8782693   9.05596368\n",
      " 12.0265     12.37729135 13.71567683 13.92149089 14.43147968 16.72717952\n",
      " 17.16963566 18.69514112]\n"
     ]
    }
   ],
   "source": [
    "A = np.random.randn(20).reshape(2, 10)\n",
    "B = np.arange(0, 20)\n",
    "print(\"A:\", A)\n",
    "print(\"B:\", B)\n",
    "print(\"A + B\", A.ravel() + B)"
   ]
  },
  {
   "cell_type": "markdown",
   "id": "6d06e14b-5215-4525-a673-e9d30ac43704",
   "metadata": {},
   "source": [
    "## Esercizio 12\n",
    "-     Costruire f, un numpy array 1D , di shape (10,) costituito da 10 valori equidistanti nell'intervallo [0,1]\n",
    "-     aumentarne la dimensionalità, in maniera tale che abbia shape (10,1)"
   ]
  },
  {
   "cell_type": "code",
   "execution_count": 27,
   "id": "6573294a-5e8b-44d0-af7e-31f9e2f9c2af",
   "metadata": {},
   "outputs": [
    {
     "name": "stdout",
     "output_type": "stream",
     "text": [
      "f: [0.         0.11111111 0.22222222 0.33333333 0.44444444 0.55555556\n",
      " 0.66666667 0.77777778 0.88888889 1.        ]\n",
      "f: [[0.        ]\n",
      " [0.11111111]\n",
      " [0.22222222]\n",
      " [0.33333333]\n",
      " [0.44444444]\n",
      " [0.55555556]\n",
      " [0.66666667]\n",
      " [0.77777778]\n",
      " [0.88888889]\n",
      " [1.        ]]\n"
     ]
    }
   ],
   "source": [
    "f = np.linspace(0, 1, 10)\n",
    "print(\"f:\", f)\n",
    "f.resize((10, 1))\n",
    "print(\"f:\", f)"
   ]
  },
  {
   "cell_type": "markdown",
   "id": "d634778c-a30e-4f06-b390-bf6ccd503a52",
   "metadata": {},
   "source": [
    "## Esercizio 13\n",
    "-     Costruire i seguenti numpy array\n",
    "      a= np.array([14,13,12,11])\n",
    "      b=np.array([[4,3,2,1],[9,10,11,12]])\n",
    "\n",
    "  Costruire il numpy array che si ottiene concatenando a e b per righe"
   ]
  },
  {
   "cell_type": "code",
   "execution_count": 33,
   "id": "a7fbb091-6196-490e-b6fa-1dfc13c283ed",
   "metadata": {},
   "outputs": [],
   "source": [
    "a = np.arange(14, 10, -1)"
   ]
  },
  {
   "cell_type": "markdown",
   "id": "11b26a22-22a8-4648-a4fc-e0bc09cd80a3",
   "metadata": {},
   "source": [
    "## Esercizio 14\n",
    "-     Costruire i seguenti numpy array\n",
    "      a= np.array([14,13,12,11])\n",
    "      b=np.array([[4,3,2,1],[9,10,11,12],[4,3,2,1],[9,10,11,12]])\n",
    "\n",
    "-\n",
    "- Costruire il numpy array che si ottiene concatenando a e b per colonne"
   ]
  },
  {
   "cell_type": "markdown",
   "id": "0cd10bd7-8d9e-4e99-827e-83cf83393782",
   "metadata": {},
   "source": [
    "## Esercizio 15\n",
    "Costruire, facendo uso di una sola riga di codice, la matrice A di ordine 10, che ha gli unici elementi diversi da zero, sulla diagonale principale, sulla codiagonale inferiore e sulla codiagonale superiore:\n",
    "\n",
    "elementi diagonali $A_{i,i}=10 \\quad$, i=1,20\n",
    "\n",
    "elementi nella codiagonale inferiore $A_{i-1,i}=-12, \\quad$ i=2,..,20, \n",
    "\n",
    "elementi nella codiagonale superiore $A_{i,i+1}=-2 \\quad$ i=1,..,19"
   ]
  },
  {
   "cell_type": "markdown",
   "id": "53d3ad23-63ab-4719-b2d2-f2b1cb942063",
   "metadata": {},
   "source": [
    "## Esercizio 16\n",
    "Costruire la matrice identità, denominata *I*,  della stessa dimensione di *A*"
   ]
  },
  {
   "cell_type": "markdown",
   "id": "b5257ffc-b9c9-4d22-a3b4-427b03f2e8dc",
   "metadata": {},
   "source": [
    "## Esercizio 17\n",
    "Facendo uso dell'operatore slicing *:* ,costruire la matrice AA selezionando dalla matrice A le righe che vanno dalla 2 alla 9 con step 2 e le colonne che vanno dalla 3 alla 6 con step 2.\n",
    "La matrice AA è una vista o una copia?"
   ]
  },
  {
   "cell_type": "markdown",
   "id": "090aeaa9-fb12-44bc-9560-5b11a0e6f503",
   "metadata": {},
   "source": [
    "## Esercizio 18\n",
    "Facendo uso dell'operatore slicing *:*, costruire la matrice A1 selezionando dalla matrice A le colonne che vanno dalla 1 alla 5 con step 2.  Trasforma la matrice A1 in una copia."
   ]
  },
  {
   "cell_type": "markdown",
   "id": "a5449d1f-1232-4ba0-a2d6-4d2e2d9c7a36",
   "metadata": {},
   "source": [
    "## Esercizio 19\n",
    "\n",
    "Costruisci due numpy array A e B di shape (5,5) \n",
    "   - A formata da numeri interi casuali  nell'intervallo [1,20]\n",
    "   - B formata da numeri interi casuali  nell'intervallo [1,6]\n",
    " \n",
    "  Costruisci con una sola riga di codice le seguenti matrici\n",
    "  \n",
    "  C=A+B   dove  $\\quad c_{ij}=a_{ij}+b_{ij} \\quad i=0,..,n, \\quad j=0,...,n$\n",
    "  \n",
    "  D=A-B   dove  $\\quad d_{ij}=a_{ij}-b_{ij} \\quad i=0,..,n, \\quad j=0,...,n$\n",
    "  \n",
    "  E=A*B   dove  $\\quad e_{ij}=a_{ij}*b_{ij} \\quad i=0,..,n, \\quad j=0,...,n$\n",
    "  \n",
    "  F=A/B   dove  $\\quad f_{ij}=a_{ij}/b_{ij} \\quad i=0,..,n, \\quad j=0,...,n$"
   ]
  },
  {
   "cell_type": "markdown",
   "id": "5a4ad10c-ccfa-45ce-b6ba-b7ddab44db3d",
   "metadata": {},
   "source": [
    "## Esercizio 20\n",
    "Dato array NumPy che rappresenta le vendite giornaliere di un negozio per un mese,\n",
    "vendite = np.random.randint(50, 200, 30) \n",
    "\n",
    "        Trova tutti i giorni in cui le vendite sono state superiori a 150.\n",
    "\n",
    "        Calcola la media delle vendite solo per i giorni in cui sono state superiori a 150.\n",
    "\n",
    "        Imposta le vendite a 0 per tutti i giorni in cui sono state inferiori a 100.\n"
   ]
  },
  {
   "cell_type": "markdown",
   "id": "d90da717-8cd5-425f-937e-588d6ccb045a",
   "metadata": {
    "tags": []
   },
   "source": [
    "## Esercizio 21\n",
    "Costruisci A, un numpy array 2d di shape (3,3) e b,  un numpy array 2d di shape (3,1)\n",
    "e somma b ad ogni colonna di A b\n"
   ]
  },
  {
   "cell_type": "markdown",
   "id": "ece2f514-aea7-4883-9b5f-8671d698c761",
   "metadata": {},
   "source": [
    "# Esercizio 22\n",
    "dato il numpy array 2d G=np.linspace(0,10,20).reshape(-1,4), scambia in G la seconda riga con la quarta riga"
   ]
  },
  {
   "cell_type": "markdown",
   "id": "a2c733be-fc9f-4a0a-80e0-fa1570468da3",
   "metadata": {},
   "source": [
    "## Esercizio 23\n",
    "Visualizzare il grafico della funzione $f(x)=sin^2(x)/x$ in 200 punti equidistanti nell'intervallo $[0.1,2\\pi]$"
   ]
  },
  {
   "cell_type": "markdown",
   "id": "32f6ae8b-ccce-47f1-b196-820a96c325fd",
   "metadata": {},
   "source": [
    "## Esercizio 24\n",
    "\n",
    "Data il numpy arra2d ottenuto facendo un reshape a (4,4) di un numpy array 1d di 16 valori equidistanti nell'intervallo [0,4]\n",
    "ed un numpy array 1d di 4 valori  interi casuali nell'intervallo [10,60], costruire il prodotto scalare A per b,\n",
    "usando A@b, e vettorizzando solo il ciclo interno.\n"
   ]
  },
  {
   "cell_type": "markdown",
   "id": "fb626777-c3f2-423b-a01b-c9e80032e308",
   "metadata": {},
   "source": [
    "## Esercizio 25\n",
    "Dato g un numpy array 2d, estendilo di una riga in alto ed di una riga in basso, di una colonna a sinistra ed di una colonna a destra, usa la funzione g_est= np.pad(g,(1,1),mode='reflect'). Visualizza 'g_est' e commenta cosa vedi."
   ]
  },
  {
   "cell_type": "markdown",
   "id": "958c2100-787e-438b-a162-0aa08465f476",
   "metadata": {},
   "source": [
    "## Esercizio 26\n",
    "Scrivi un programma Python che esegua l'elaborazione di un'immagine utilizzando un filtro di media. \n",
    "\n",
    "Utilizza il padding per gestire i pixel del bordo durante l'applicazione del filtro.\n",
    "\n",
    "Il programma deve seguire questi passaggi:\n",
    "\n",
    "- Carica l'immagine: Carica l'immagine 'cameraman.png' utilizzando la libreria Matplotlib.**image=plt.imread('cameraman.png')**\n",
    "- Visualizza l'immagine originale **plt.imshow(image,cmap='gray')**\n",
    "- definisce la dimensione del filtro, dim_filtro\n",
    "- Applica il padding: Applica un padding costante di dim_filtro//2 pixel a tutti i bordi dell'immagine (utilizzando il metodo di numpy **image_bordered=np.pad(image,(dim_filtro//2,dim_filtro//2),, mode='reflect')**\n",
    "- Crea il filtro di media: Crea un filtro di media di dimensioni *dim_filtroxdim_filtro*, dove tutti gli elementi sono pari a 1/(dim_filtroxdim_filtro)\n",
    "- Applica il filtro: Scorri ogni pixel dell'immagine con padding (escludendo i bordi aggiunti) e applica il filtro di media.\n",
    "\n",
    "   *Per ogni pixel, calcola la somma dei prodotti tra i pixel della sottomatrice dim_filtroxdim_filtro centrata sul pixel corrente e il filtro.*\n",
    "   \n",
    "- Crea l'immagine filtrata: Crea un nuovo array NumPy che rappresenta l'immagine filtrata, dove ogni pixel contiene il risultato dell'applicazione del filtro.\n",
    "- Visualizza l'immagine filtrata: Visualizza l'immagine filtrata utilizzando Matplotlib con la mappa di colori 'gray'.\n",
    "- Aggiungi una colorbar per visualizzare la scala dei valori dell'immagine filtrata.\n",
    "- Mostra l'immagine filtrata con Matplotlib.\n",
    "\n",
    "\n",
    "Requisiti:\n",
    "\n",
    "-  Utilizzare la libreria Matplotlib per caricare e visualizzare l'immagine.\n",
    "-  Utilizzare la libreria NumPy per la manipolazione degli array e per il padding."
   ]
  }
 ],
 "metadata": {
  "kernelspec": {
   "display_name": "Python 3 (ipykernel)",
   "language": "python",
   "name": "python3"
  },
  "language_info": {
   "codemirror_mode": {
    "name": "ipython",
    "version": 3
   },
   "file_extension": ".py",
   "mimetype": "text/x-python",
   "name": "python",
   "nbconvert_exporter": "python",
   "pygments_lexer": "ipython3",
   "version": "3.13.2"
  }
 },
 "nbformat": 4,
 "nbformat_minor": 5
}

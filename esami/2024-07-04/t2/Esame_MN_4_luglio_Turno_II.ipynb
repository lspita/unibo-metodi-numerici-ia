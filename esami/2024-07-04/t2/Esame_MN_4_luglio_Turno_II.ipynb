{
 "cells": [
  {
   "cell_type": "markdown",
   "id": "73aa0225-b2dd-4e47-8ded-3a61037a72c4",
   "metadata": {},
   "source": [
    "## Esame Metodi Numerici  4 Luglio 2024 - Turno II Ore 12,30"
   ]
  },
  {
   "cell_type": "markdown",
   "id": "18395123-3e72-4667-9f4c-5c98ddd3412d",
   "metadata": {},
   "source": [
    "# Esercizio 1\n",
    "\n",
    "Si considerino i due sistemi lineari:\n",
    "\n",
    "     A  x = b \n",
    "\n",
    "    A1 x1 = b1\n",
    "\n",
    "dove A, A1 sono le matrici dei coefficienti, b e b1 sono i termini noti, ed x ed x1 sono i vettori incogniti da determinare.\n",
    "I dati di questi due sistemi lineari sono contenuti nel file **testII.mat**.\n",
    "\n",
    "\n",
    "- Si risolva ciascuno dei sistemi lineari assegnati  utilizzando il metodo più adatto in base alle caratteristiche della matrice dei coefficienti, giustificando teoricamente le scelte effettuate.\n",
    "                                      **punti 6**\n",
    "\n",
    "Per il sistema A1 x1= b1, , aggiungere una perturbazione dello 0.1% sulla componente 1-esima del termine noto, e risolvere il sistema con termine noto perturbato. Calcolare quindi  l'errore relativo sulla soluzione e l'errore relativo sui dati e giustificare i risultati alla luce della teoria.\n",
    "                                      **punti 2**\n",
    "\n",
    "\n",
    "Per la lettura dei dati procedere nel seguente modo:\n",
    "\n",
    "``from scipy.io import loadmat``\n",
    "\n",
    "``import numpy as np``\n",
    "\n",
    "``dati = loadmat('testII')``\n",
    "\n",
    "``A=dati[\"A\"] ``\n",
    "\n",
    "``A=A.astype(float)``\n",
    "\n",
    "`` b=dati[\"b\"] ``\n",
    "\n",
    "`` b=b.astype(float)``\n",
    "\n",
    "``A1=dati[\"A1\"] ``\n",
    "\n",
    "``A1=A1.astype(float)``\n",
    "\n",
    "`` b1=dati[\"b1\"] ``\n",
    "\n",
    "`` b1=b1.astype(float)``"
   ]
  },
  {
   "cell_type": "code",
   "execution_count": 1,
   "id": "eb423945-1a22-4d3c-b0e2-3be5b95d2417",
   "metadata": {},
   "outputs": [],
   "source": [
    "from scipy.io import loadmat\n",
    "import numpy as np\n",
    "from SolveTriangular import Lsolve, Usolve\n",
    "import scipy as sp\n",
    "\n",
    "dati = loadmat('testII')\n",
    "A=dati[\"A\"] \n",
    "A=A.astype(float)\n",
    "b=dati[\"b\"]\n",
    "b=b.astype(float)\n",
    "A1=dati[\"A1\"] \n",
    "A1=A1.astype(float)\n",
    "b1=dati[\"b1\"]\n",
    "b1=b1.astype(float)"
   ]
  },
  {
   "cell_type": "code",
   "execution_count": 2,
   "id": "6290053d-8511-48ee-90f7-516aa40836a4",
   "metadata": {},
   "outputs": [
    {
     "name": "stdout",
     "output_type": "stream",
     "text": [
      "Matrice A\n",
      "- dimensione: (10, 10)\n",
      "- quadrata: True\n",
      "- condizionamento: 12.814544599567935\n",
      "- densità: 0.96\n",
      "- simmetrica: True\n",
      "- definita positiva: True\n",
      "- a diagonale strettamente dominante: False\n",
      "\n",
      "Matrice A1\n",
      "- dimensione: (20, 15)\n",
      "- quadrata: False\n",
      "- condizionamento: 5.697438059606206e+16\n",
      "- rango massimo: False\n",
      "\n",
      "Soluzione Ax=b: [[1.]\n",
      " [1.]\n",
      " [1.]\n",
      " [1.]\n",
      " [1.]\n",
      " [1.]\n",
      " [1.]\n",
      " [1.]\n",
      " [1.]\n",
      " [1.]]\n",
      "Soluzione A1x1=b1: [[0.5210993 ]\n",
      " [1.25827182]\n",
      " [1.27889527]\n",
      " [0.46087355]\n",
      " [0.89024294]\n",
      " [1.04762977]\n",
      " [0.29616227]\n",
      " [0.59585228]\n",
      " [1.13383321]\n",
      " [0.94430646]\n",
      " [1.32127485]\n",
      " [0.97301581]\n",
      " [0.15568769]\n",
      " [0.79644108]\n",
      " [1.09968922]]\n"
     ]
    }
   ],
   "source": [
    "# punto 1\n",
    "\n",
    "def mostra_caratteristiche(A):\n",
    "    print(\"- dimensione:\", A.shape)\n",
    "    quadrata=A.shape[0]==A.shape[1]\n",
    "    print(\"- quadrata:\", quadrata)\n",
    "    print(\"- condizionamento:\", np.linalg.cond(A))\n",
    "    if quadrata:\n",
    "        print(\"- densità:\", np.count_nonzero(A)/np.prod(A.shape))\n",
    "        print(\"- simmetrica:\", np.all(A.T==A))\n",
    "        print(\"- definita positiva:\", np.all(np.linalg.eigvals(A)>0))\n",
    "        print(\"- a diagonale strettamente dominante:\", np.all(2*np.abs(A)>np.sum(np.diag(np.abs(A))))) # |Aii|>sum_j!=i|Aij| => 2|Aii|>sum_j|Aij|\n",
    "    else:\n",
    "        print(\"- rango massimo:\", np.min(A.shape) == np.linalg.matrix_rank(A))\n",
    "    print()\n",
    "\n",
    "print(\"Matrice A\")\n",
    "mostra_caratteristiche(A) # quadrata, piccola, densa, ben condizionata, simmetrica, definita positiva\n",
    "print(\"Matrice A1\")\n",
    "mostra_caratteristiche(A1) # sistema sovradeterminato (m>n), mal condizionata, rango non massimo\n",
    "\n",
    "# in base alle caratteristiche delle matrici, decido di utilizzare i seguenti metodi di risoluzione:\n",
    "# - Fattorizzazione di Cholesky per A: tra le tre fattorizzazioni possibili (LU, QR e Cholesky), quando la matrice è simmetrica e definita positiva si usa Cholesky.\n",
    "# - SVDLS per A1: quando la matrice rappresenta un sistema sovradeterminato e non ha rango massimo, questo metodo è l'unica opzione disponibile.\n",
    "\n",
    "def cholesky(A, b):\n",
    "    L = sp.linalg.cholesky(A, lower=True)\n",
    "    U = L.T\n",
    "    x, flag = Lsolve(L, b)\n",
    "    if flag == 0:\n",
    "        return Usolve(U, x)[0]\n",
    "    return None\n",
    "\n",
    "def SVDLS(A,b):\n",
    "    m,n=A.shape  #numero di righe e  numero di colonne di A\n",
    "    U,s,VT=sp.linalg.svd(A)  \n",
    "    \n",
    "    V=VT.T\n",
    "    thresh=np.spacing(1)*m*s[0] ##Calcolo del rango della matrice, numero dei valori singolari maggiori di una soglia\n",
    "    k=np.count_nonzero(s>thresh)\n",
    "    \n",
    "    d=U.T@b\n",
    "    d1=d[:k].reshape((k,1))\n",
    "    s1=s[:k].reshape((k,1))\n",
    "    \n",
    "    c=d1/s1 \n",
    "    x=V[:,:k]@c \n",
    "    residuo=np.linalg.norm(d[k:])**2 \n",
    "    return x,residuo\n",
    "\n",
    "x = cholesky(A, b)\n",
    "x1, _ = SVDLS(A1, b1)\n",
    "\n",
    "print(\"Soluzione Ax=b:\", x)\n",
    "print(\"Soluzione A1x1=b1:\", x1)"
   ]
  },
  {
   "cell_type": "code",
   "execution_count": 3,
   "id": "adc0c3e3-8779-492b-968b-cc9696f2ca6a",
   "metadata": {},
   "outputs": [
    {
     "name": "stdout",
     "output_type": "stream",
     "text": [
      "Errore dati: 0.0005097836518342455\n",
      "Errore soluzione: 0.0033517497436717524\n"
     ]
    }
   ],
   "source": [
    "# punto 2\n",
    "# bb1 = b1 + perturbazione\n",
    "bb1 = b1.copy()\n",
    "bb1[1] += bb1[1]/1000\n",
    "\n",
    "err = lambda x, expected: np.linalg.norm(x-expected)/np.linalg.norm(x)\n",
    "print(\"Errore dati:\", err(bb1, b1))\n",
    "xx1, _ = SVDLS(A1, bb1) # xx1 = soluzione con b1 perturbato\n",
    "print(\"Errore soluzione:\", err(xx1, x1))\n",
    "\n",
    "# Nonostante la matrice A1 abbia un indice di condizionamento molto elevato (5.697e+16), che quindi dovrebbe portare ad un grande aumento dell'errore per una piccola perturbazione sui dati, il metodo\n",
    "# SVDLS riesce a mantenere un errore basso anche in queste condizioni; per questo è consigliato, oltre che per quando la matrice non ha rango massimo, per quando la matrice ha un cattivo indice \n",
    "# di condizionamento."
   ]
  },
  {
   "cell_type": "markdown",
   "id": "83625f69-f268-4b7b-a57e-800d00f4057e",
   "metadata": {},
   "source": [
    "- Dato il sistema lineare \n",
    "A3 x3 = b3\n",
    "dove \n",
    "\n",
    "A3=np.array([[8.0,0,1,1],[0,0.8,1,0],[1,1,2,0],[1,0,0.0,2.0]])\n",
    "b3= np.array([10.0, 1.8,  4.0, 3.0])\n",
    "\n",
    "- Verificare senza calcolare il raggio spettrale della matrice di iterazione che il metodo di Gauss-Seidel converge, richiamando il teorema che garantisce la convergenza di Gauss-Seidel per classi particolari di \n",
    "matrici     **punti[1]**.\n",
    "- Implementare il metodo di Gauss-Seidel  e risolvere il sistema lineare A3 x3= b3  **punti[3]**.\n",
    "\n",
    "Totale **Punti 12**"
   ]
  },
  {
   "cell_type": "code",
   "execution_count": 4,
   "id": "8e38fc35-1952-4a66-8983-518d0a36eb03",
   "metadata": {},
   "outputs": [
    {
     "name": "stdout",
     "output_type": "stream",
     "text": [
      "Matrice A3\n",
      "- dimensione: (4, 4)\n",
      "- quadrata: True\n",
      "- condizionamento: 41.85857755643037\n",
      "- densità: 0.625\n",
      "- simmetrica: True\n",
      "- definita positiva: True\n",
      "- a diagonale strettamente dominante: False\n",
      "\n"
     ]
    }
   ],
   "source": [
    "# punto 1\n",
    "\n",
    "A3=np.array([[8.0,0,1,1],[0,0.8,1,0],[1,1,2,0],[1,0,0.0,2.0]])\n",
    "b3= np.array([10.0, 1.8, 4.0, 3.0])\n",
    "\n",
    "# mostriamo le caratteristiche di A3\n",
    "print(\"Matrice A3\")\n",
    "mostra_caratteristiche(A3)\n",
    "\n",
    "# essendo A3 simmetrica e definita positiva, il metodo di Gauss-Seidel converge a soluzione"
   ]
  },
  {
   "cell_type": "code",
   "execution_count": 5,
   "id": "e0dc6db1-8ad7-409f-935b-11274946725d",
   "metadata": {},
   "outputs": [
    {
     "name": "stdout",
     "output_type": "stream",
     "text": [
      "raggio spettrale Gauss-Seidel  0.6936887195995491\n",
      "Soluzione A3x3 = b3: [[1.]\n",
      " [1.]\n",
      " [1.]\n",
      " [1.]]\n"
     ]
    }
   ],
   "source": [
    "# punto 2\n",
    "def gauss_seidel(A,b,x0,toll,it_max):\n",
    "    errore=1000\n",
    "    d=np.diag(A)\n",
    "    D=np.diag(d)\n",
    "    E=np.tril(A, -1)\n",
    "    F=np.triu(A, 1)\n",
    "    M=D+E\n",
    "    N=-F\n",
    "    invM=np.linalg.inv(M)\n",
    "    T=invM@N\n",
    "    autovalori=np.linalg.eigvals(T)\n",
    "    raggiospettrale=np.max(np.abs(autovalori)) \n",
    "    print(\"raggio spettrale Gauss-Seidel \",raggiospettrale)\n",
    "    it=0\n",
    "    er_vet=[]\n",
    "    while it<it_max and errore>toll:\n",
    "        x, _=Lsolve(M, b+N@x0) \n",
    "        errore=np.linalg.norm(x-x0)/np.linalg.norm(x)\n",
    "        er_vet.append(errore)\n",
    "        x0=x.copy()\n",
    "        it=it+1\n",
    "    return x,it,er_vet\n",
    "\n",
    "b3 = b3.reshape(-1, 1)\n",
    "x0 = np.zeros_like(b3) # iterato iniziale [0, 0, ..., 0]^T\n",
    "toll=1e-10\n",
    "it_max = 1000\n",
    "x3, it, err = gauss_seidel(A3, b3, x0, toll, it_max)\n",
    "print(\"Soluzione A3x3 = b3:\", x3)"
   ]
  },
  {
   "cell_type": "markdown",
   "id": "26e0b8fe-c204-4a42-9bbf-0b338fbdcf8c",
   "metadata": {},
   "source": [
    "## Esercizio 2\n",
    "\n",
    "Per ogni $k \\in N$ l'equazione di II grado $x^2+(4^{2k}-2^{-2k})x-4^{2k}2^{-2k}=0 $ ha come soluzioni esatte $x_1=-4^{2k}$,$x_2=2^{-2k}$,"
   ]
  },
  {
   "cell_type": "markdown",
   "id": "f2ba7174-2dcc-47fd-9aaf-a890de3a0dcd",
   "metadata": {},
   "source": [
    "Scrivere lo script python in cui\n",
    "- si implementa la formula risolutiva delle equazioni di II grado per calcolare le  due soluzioni per $k$ che  assume valori interi tra 4 e 12;  [**Punti 2**]\n",
    "- per entrambe le soluzioni, si calcola l'errore relativo commesso al variare di k che assume valori interi tra 4 e 12;   [**Punti 1**]\n",
    "- si rappresentano in un grafico gli andamenti dei due errori relativi calcolati nel punto precedente; [**Punti 1**]\n",
    "- osservando i grafici ottenuti, si dica se le formule utilizzate per calcolare le due soluzioni hanno dato luogo ad algoritmi stabili, motivando opportunamente la risposta alla luce della teoria.   [**Punti 4**]\n",
    "\n",
    "- proporre ed implementare un algoritmo alternativo stabile per il calcolo della soluzione per cui la formula risolutiva classica si è dimostrata non essere stabile. [**Punti 2**]"
   ]
  },
  {
   "cell_type": "code",
   "execution_count": 6,
   "id": "feb859a9-707b-494e-97f9-cbfeac81fc48",
   "metadata": {},
   "outputs": [],
   "source": [
    "import numpy as np\n",
    "import matplotlib.pyplot as plt"
   ]
  },
  {
   "cell_type": "code",
   "execution_count": 18,
   "id": "6efe448b-6492-4125-bb35-4a691c8eae8c",
   "metadata": {},
   "outputs": [
    {
     "name": "stdout",
     "output_type": "stream",
     "text": [
      "a: 1\n",
      "b: [6.55359961e+04 1.04857600e+06 1.67772160e+07 2.68435456e+08\n",
      " 4.29496730e+09 6.87194767e+10 1.09951163e+12 1.75921860e+13\n",
      " 2.81474977e+14]\n",
      "c: [-2.5600000e+02 -1.0240000e+03 -4.0960000e+03 -1.6384000e+04\n",
      " -6.5536000e+04 -2.6214400e+05 -1.0485760e+06 -4.1943040e+06\n",
      " -1.6777216e+07]\n"
     ]
    },
    {
     "data": {
      "image/png": "[encoded data removed]",
      "text/plain": [
       "<Figure size 640x480 with 1 Axes>"
      ]
     },
     "metadata": {},
     "output_type": "display_data"
    },
    {
     "data": {
      "image/png": "[encoded data removed]",
      "text/plain": [
       "<Figure size 640x480 with 1 Axes>"
      ]
     },
     "metadata": {},
     "output_type": "display_data"
    }
   ],
   "source": [
    "k = np.arange(4, 13)\n",
    "x1_esatta = -4.0**(2*k)\n",
    "x2_esatta = 2.0**(-2*k)\n",
    "\n",
    "# punto 1\n",
    "risolvi = lambda a, b, c: ((-b -np.sqrt(b**2 -4*a*c))/(2*a), (-b +np.sqrt(b**2 -4*a*c))/(2*a))\n",
    "\n",
    "a = 1\n",
    "b = 4.0**(2*k) - 2.0**(-2*k)\n",
    "c = -4.0**(2*k)*2.0**(-2*k)\n",
    "\n",
    "print(\"a:\", a)\n",
    "print(\"b:\", b)\n",
    "print(\"c:\", c)\n",
    "\n",
    "x1, x2 = risolvi(a, b, c)\n",
    "\n",
    "# punto 2\n",
    "err = lambda x, expected: np.abs(x-expected)/np.where(x!=0, np.abs(x), 1)\n",
    "err_x1 = err(x1, x1_esatta)\n",
    "err_x2 = err(x2, x2_esatta)\n",
    "\n",
    "# punto 3\n",
    "plt.title(\"Errore\")\n",
    "plt.ylabel(\"k\")\n",
    "plt.plot(k, err_x1, label=\"x1\")\n",
    "plt.plot(k, err_x2, label=\"x2\")\n",
    "plt.legend()\n",
    "plt.show()\n",
    "\n",
    "# punto 4\n",
    "# la formula per x2 non è stabile perchè, per certi valori di k, -b e +sqrt(b**2 -4*a*c) sono simili in modulo ma di segno opposto, portarndo ad errori nella soluzione. Per risolvere questo problema\n",
    "# si può fattorizzare la radice portandola al denominatore (si moltiplica per (sqrt(b**2 -4*a*c) + b)/(sqrt(b**2 -4*a*c) + b)).\n",
    "\n",
    "# punto 5\n",
    "risolvi_stabile = lambda a, b, c: ((-b -np.sqrt(b**2 -4*a*c))/(2*a), ((b**2 -4*a*c) - b**2)/(2*a*(np.sqrt(b**2 -4*a*c) + b)))\n",
    "\n",
    "x1_s, x2_s = risolvi_stabile(a, b, c)\n",
    "err_x1_s = err(x1_s, x1_esatta)\n",
    "err_x2_s = err(x2_s, x2_esatta)\n",
    "\n",
    "plt.title(\"Errore (risoluzione stabile)\")\n",
    "plt.ylabel(\"k\")\n",
    "plt.plot(k, err_x1_s, label=\"x1\")\n",
    "plt.plot(k, err_x2_s, label=\"x2\")\n",
    "plt.legend()\n",
    "plt.show()"
   ]
  },
  {
   "cell_type": "markdown",
   "id": "828a3a5c-f225-4808-a221-785c0cee8df0",
   "metadata": {},
   "source": [
    "- Ricavavare la formula che quantifica l'indice di condizionamento del problema di valutare una funzione $f:R \\rightarrow R$ in un punto $x \\in R$ [**punti 3**]"
   ]
  },
  {
   "cell_type": "code",
   "execution_count": 19,
   "id": "597dac56-308b-492a-aa87-734f67ae0e3e",
   "metadata": {},
   "outputs": [
    {
     "name": "stdout",
     "output_type": "stream",
     "text": [
      "f'(x): -sin(x)/2\n",
      "Indice di condizionamento K(f(x)): 0.005000936500318681\n"
     ]
    }
   ],
   "source": [
    "# punto 6\n",
    "# utilizzo la libreria sympy per il calcolo della derivata automatica, che richiede la riscrittura della funzione in forma simbolica\n",
    "import sympy as sym\n",
    "import numpy as np\n",
    "\n",
    "# calcolo dell'indice di condizionamento di una funzione in x a partire dalla sua versione simbolica\n",
    "def condizionamento(fs, xs, x):\n",
    "    dfs = sym.diff(fs, xs, 1) # calcolo la derivata prima simbolica\n",
    "    print(\"f'(x):\", dfs)\n",
    "    \n",
    "    f = sym.lambdify(xs, fs, np) # rendo numerica la funzione\n",
    "    df = sym.lambdify(xs, dfs, np) # rendo numerica la derivata\n",
    "\n",
    "    return np.abs(x*df(x)/f(x)) # K(f(x)) = |f'(x)/f(x)|\n",
    "\n",
    "xs = sym.symbols(\"x\")\n",
    "fs = sym.cos(xs)/2\n",
    "x = 3.14\n",
    "print(\"Indice di condizionamento K(f(x)):\", condizionamento(fs, xs, x))"
   ]
  },
  {
   "cell_type": "markdown",
   "id": "b1e3945c-db1a-4b49-b80b-cc12c5330e68",
   "metadata": {},
   "source": [
    "## Domande Intelligenza Artificiale\n",
    "**NB: Ogni risposta esatta:  +0.5 punti, ogni risposta errata: -0.5 punti. La mancanza di risposta:  0 punti**"
   ]
  },
  {
   "cell_type": "markdown",
   "id": "aa9e415e-dc1f-42b0-aa27-cb4a046582c5",
   "metadata": {},
   "source": [
    "Domande a risposta multipla"
   ]
  },
  {
   "cell_type": "markdown",
   "id": "b5e2df13-7d65-4214-9195-fc5942a98a21",
   "metadata": {},
   "source": [
    "**1** \n",
    "Quale delle seguenti affermazioni è FALSA riguardo alle reti MLP (Multilayer Perceptron)? C\n",
    "\n",
    "- Le reti MLP sono composte da uno o più strati nascosti di neuroni.\n",
    "- Le reti MLP utilizzano una funzione di attivazione non lineare per introdurre una non linearità nel modello.\n",
    "\n",
    "- Le reti MLP sono in grado di apprendere solo relazioni lineari tra i dati di input e output.\n",
    "\n",
    "- Le reti MLP possono essere utilizzate per risolvere una vasta gamma di problemi di apprendimento automatico, tra cui la classificazione e la regressione."
   ]
  },
  {
   "cell_type": "markdown",
   "id": "5474e22e-e367-4289-8a1c-ed104eb111c6",
   "metadata": {},
   "source": [
    "**2.**  Quale delle seguenti affermazioni è la definizione CORRETTA di learning rate nel training di una rete neurale? B\n",
    "\n",
    "A) Il numero di volte in cui l'intero set di dati viene utilizzato durante il training.\n",
    "\n",
    "B) Un parametro che controlla la velocità con cui i pesi della rete vengono aggiornati durante il training.\n",
    "\n",
    "C) Il numero di neuroni presenti nello strato di output della rete.\n",
    "\n",
    "D) La funzione di attivazione utilizzata dai neuroni della rete.ressione"
   ]
  },
  {
   "cell_type": "markdown",
   "id": "328706ff-0d3c-4b99-97f3-d2eea5158c0c",
   "metadata": {},
   "source": [
    "**3.**  \n",
    "Quale tra le seguenti affermazioni descrive meglio il compito della funzione di attivazione nel training di una rete neurale? B\n",
    "\n",
    "- Trasformare i dati di input in un formato compatibile con la rete neurale\n",
    "\n",
    "- Introdurre una non linearità nel flusso di informazioni della rete\n",
    "\n",
    "- Calcolare l'errore tra l'output previsto e quello effettivo\n",
    "\n",
    "- Aggiornare i pesi delle connessioni tra i neuroni softmax\n"
   ]
  },
  {
   "cell_type": "markdown",
   "id": "248323f7-7a5a-478b-b446-71db7d2ff490",
   "metadata": {},
   "source": [
    "**4.** Quale delle seguenti definizioni descrive meglio un'epoca nel training di una rete neurale?\n",
    "- Il numero di volte in cui viene aggiornato un singolo peso nella rete\n",
    "- Il tempo impiegato per completare un ciclo di forward pass e backward propagation\n",
    "- Il numero di volte in cui l'intero set di dati di training viene esposto alla rete\n",
    "- Una misura della complessità del modello di rete neurale\n"
   ]
  },
  {
   "cell_type": "markdown",
   "id": "0ab76c03-ab08-49b8-a688-688ca2aa7cbe",
   "metadata": {},
   "source": [
    "**5.** Quale tra le seguenti affermazioni è FALSA riguardo alla suddivisione del dataset in un contesto di machine learning? C\n",
    "\n",
    "- La suddivisione del dataset in set di training, validation e test è fondamentale per valutare correttamente le prestazioni di un modello di machine learning.\n",
    "- Il set di training viene utilizzato per addestrare il modello sui dati.\n",
    "- Il set di validation viene utilizzato per trovare le etichette dei dati di input\n",
    "- Il set di test viene utilizzato per valutare le prestazioni finali del modello su dati che non sono stati utilizzati per il training o la validation.\n"
   ]
  },
  {
   "cell_type": "markdown",
   "id": "b18ecaab-5021-450a-90d5-720082587ddb",
   "metadata": {},
   "source": [
    "**Domande aperte**"
   ]
  },
  {
   "cell_type": "markdown",
   "id": "9d9bcf40-f194-4892-ad65-a2055d694430",
   "metadata": {},
   "source": [
    "**6. Descrivi in cosa consiste la fase di forward-propagation e back-propagation nell'ambito del training di una rete neurale, soffermandoti sull'importanza dell'algoritmo di backpropagation** per il calcolo delle derivate parziali della funzione costo rispetto ai pesi di tutti i layer **[punti 1.5]**\n",
    "\n",
    "**7** Ricavare la formula di aggiornamento dei pesi mediante algoritmo di backpropagation nel caso di una rete MLP formata da un nodo di input, 2 layer nascosti ciascuno dei quali costituito da un solo neurone ed un nodo di output.   **[punti: 3]**"
   ]
  },
  {
   "cell_type": "markdown",
   "id": "ae8f419d-ddee-4ab9-adbc-a4f885a2c246",
   "metadata": {},
   "source": [
    "**6:** La fase di forward-propagation consiste nel dare in input alla rete i dati per ottenere un risultato, così da poter calcolare l'errore tramite la funzione costo. La fase di back-propagation consiste invece nel calcolare e riassegnare i valori dei pesi in base al risultato della funzione costo: in particolare, siccome quest'ultima va minimizzata in quanto rappresenta l'errore, per ogni neurone si vuole adattare il peso in base al valore della derivata parziale della funzione costo rispetto ad esso, cercando di andare nella direzione opposta al gradiente per avere massima decrescita."
   ]
  },
  {
   "cell_type": "markdown",
   "id": "bb33c6d7-e841-454f-959c-7404a3cbc90a",
   "metadata": {},
   "source": [
    "**7:** consideriamo quindi la rete:\n",
    "- xi: valore del nodo al livello i (i=0: layer input, i=3: layer output)\n",
    "- wi: peso tra nodo al livello i e livello i-1\n",
    "- L: loss function\n",
    "\n",
    "$$\\delta_1 = \\frac{\\delta L}{\\delta w_3}$$\n",
    "$$\\delta_2 = \\delta_1 w_2$$\n",
    "$$\\delta_3 = \\delta_2 w_3$$\n",
    "\n",
    "Portando quindi i nuovi pesi a:\n",
    "$$w_1 = \\delta_1 w_1$$\n",
    "$$w_2 = \\delta_2 w_2$$\n",
    "$$w_3 = \\delta_3 w_3$$"
   ]
  },
  {
   "cell_type": "markdown",
   "id": "b24fca09-a7e4-4fc2-9dcb-f052a31248e4",
   "metadata": {},
   "source": []
  }
 ],
 "metadata": {
  "kernelspec": {
   "display_name": "Python 3 (ipykernel)",
   "language": "python",
   "name": "python3"
  },
  "language_info": {
   "codemirror_mode": {
    "name": "ipython",
    "version": 3
   },
   "file_extension": ".py",
   "mimetype": "text/x-python",
   "name": "python",
   "nbconvert_exporter": "python",
   "pygments_lexer": "ipython3",
   "version": "3.13.5"
  }
 },
 "nbformat": 4,
 "nbformat_minor": 5
}

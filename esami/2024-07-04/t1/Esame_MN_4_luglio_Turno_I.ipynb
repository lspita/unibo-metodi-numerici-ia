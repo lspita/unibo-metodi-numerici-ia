{
 "cells": [
  {
   "cell_type": "markdown",
   "id": "73aa0225-b2dd-4e47-8ded-3a61037a72c4",
   "metadata": {},
   "source": [
    "## Esame Metodi Numerici  4 Luglio 2024 - Turno I Ore 9"
   ]
  },
  {
   "cell_type": "markdown",
   "id": "18395123-3e72-4667-9f4c-5c98ddd3412d",
   "metadata": {},
   "source": [
    "# Esercizio 1\n",
    "\n",
    "Si consideri il sistema lineare:\n",
    "\n",
    "     A  x = b \n",
    "\n",
    "dove A è la matrice dei coefficienti, b è il termine noto, ed x è il vettore delle incognite da determinare.\n",
    "I dati di questo sistema lineare sono contenuti nel file **testI.mat**.\n",
    "\n",
    "- Si implementino e si testino sui dati forniti due metodi che sono adatti a risolvere tale sistema lineare con le caratteristiche delle matrici dei coefficienti date in input.\n",
    "                                      **[punti 7]**\n",
    "- Si confrontino i risultati ottenuti e si giustifichino utilizzando  e richiamando gli aspetti teorici dei metodi implementati.\n",
    "                                      **[punti 2]**\n",
    "\n",
    "Per la lettura dei dati procedere nel seguente modo:\n",
    "\n",
    "``from scipy.io import loadmat``\n",
    "\n",
    "``import numpy as np``\n",
    "\n",
    "``dati = loadmat('testI')``\n",
    "\n",
    "``A=dati[\"A\"] ``\n",
    "\n",
    "``A=A.astype(float)``\n",
    "\n",
    "`` b=dati[\"b\"] ``\n",
    "\n",
    "`` b=b.astype(float)``"
   ]
  },
  {
   "cell_type": "markdown",
   "id": "2f2bfb63-b47d-4964-8ee9-46ab3f583b72",
   "metadata": {},
   "source": [
    "- Data la matrice\n",
    "$$\n",
    "\\left[\n",
    "\\begin{array}{cccc}\n",
    "3.0 &2.0 & 1.0 & -1.0\\\\\n",
    "4.0 & 6.0 & 3.0 & 2.0\\\\\n",
    "2.0 & 1.0 & 4.0 & 3.0\\\\\n",
    "1.0 & 4.0 & 2.0 & 7.0\n",
    "\\end{array}\n",
    "\\right ],\n",
    "$$\n",
    "calcolarne la fattorizzazione lu di Gauss  facendo uso della funzione scipy.linalg.lu e:\n",
    "- sfruttarla per il calcolo del suo determinante (confrontare l'esattezza del calcolo con quello ottenuto usando la funzione numpy.linalg.det)             **[punti: 2]**\n",
    "- sfruttarla per il calcolo della sua inversa risolvendo n sistemi lineari (confrontare l'inversa con quella ottenuta usando la funzione numpy.linalg.inv)\n",
    "                                                                                                    **[punti: 2]**"
   ]
  },
  {
   "cell_type": "markdown",
   "id": "26e0b8fe-c204-4a42-9bbf-0b338fbdcf8c",
   "metadata": {},
   "source": [
    "## Esercizio 2\n",
    "\n",
    "-  Implementare il  metodo di Newton Raphson, la variante delle corde e la variante di Shamanskii per la soluzione di un sistema non lineare\n",
    "                           [**punti: 7**]\n",
    "\n",
    "- Risolvere il sistema di equazioni non lineare \n",
    "\n",
    "$$\n",
    "\\left\\{\n",
    "\\begin{array}{c}\n",
    "x_0\\cdot x_1+x_0=1 \\\\\n",
    " x_0^2+x_1^2=9\n",
    "\\end{array}\n",
    "\\right.\n",
    "$$\n",
    "con ciascuno dei tre metodi e confrontare per ciascun metodo il grafico dell'errore relativo tra due iterati successivi, giustificando i risultati alla luce della teoria. [**punti: 3**]\n",
    "\n",
    " **Nota Bene**: Servirsi del metodo grafico per individuare un \n",
    "iterato iniziale  $X^{(0)}$ nell'intorno della soluzione che si vuole approssimare.  Per fare cio',  visualizzare le \n",
    "curve di livello corrisponenti a z=0 delle due superfici $z_1 = f_1 (x_0 ,x_1 )$ e $z_2 = f_2(x_0 , x_1 )$ e \n",
    "definire come iterato iniziale un vettore $X^{(0)}=(x_0^{(0)},x_1^{(0)})$ oppurtuno le cui componenti appartengono ad un \n",
    "intorno della soluzione (cioè  dei punti di  intersezione tra le curve di livello delle due superfici) \\]\n",
    "\n",
    "- Descrivere teoricamente la variante del Metodo di Newton-Raphson per calcolare il minimo di una funzione non lineare in più variabili.\n",
    "\n",
    " [**punti: 2**]\n",
    " \n",
    "\n"
   ]
  },
  {
   "cell_type": "markdown",
   "id": "b1e3945c-db1a-4b49-b80b-cc12c5330e68",
   "metadata": {},
   "source": [
    "## Domande Intelligenza Artificiale\n",
    "**NB: Ogni risposta esatta:  +0.5 punti, ogni risposta errata: -0.5 punti. La mancanza di risposta:  0 punti**"
   ]
  },
  {
   "cell_type": "markdown",
   "id": "aa9e415e-dc1f-42b0-aa27-cb4a046582c5",
   "metadata": {},
   "source": [
    "Domande a risposta multipla"
   ]
  },
  {
   "cell_type": "markdown",
   "id": "5ff34e78-5769-41bc-9983-e25fc55eb18f",
   "metadata": {},
   "source": [
    "**1.** Quali sono i passaggi fondamentali all’interno del paradigma generale dell’Intelligenza Artificiale?\n",
    "\n",
    "•\tAcquisizione dati, Data Processing, Addestramento del modello, Predizione e metriche\n",
    "\n",
    "•\tData Processing, Addestramento del Modello, Predizione, Analisi economica dei risultati\n",
    "\n",
    "•\tAcquisizione dati, Data Processing, Addestramento del modello, Predizione, Test di Turing\n",
    "\n",
    "•\tAcquisizione dati, Addestramento del Modello, Test di Turing, Predizione\n"
   ]
  },
  {
   "cell_type": "markdown",
   "id": "5474e22e-e367-4289-8a1c-ed104eb111c6",
   "metadata": {},
   "source": [
    "**2.** Per una rete neurale, l’apprendimento è legato a:\n",
    "\n",
    "•\tMinimizzare la funzione obiettivo\n",
    "\n",
    "•\tMinimizzare la funzione di attivazione\n",
    "\n",
    "•\tMassimizzare il valore dei pesi tramite l’algoritmo di back-propagation\n",
    "\n",
    "•\tMassimizzare il valore della funzione di training\n"
   ]
  },
  {
   "cell_type": "markdown",
   "id": "328706ff-0d3c-4b99-97f3-d2eea5158c0c",
   "metadata": {},
   "source": [
    "**3.**  Il Test di Turing serve a:\n",
    "\n",
    "•\tValutare se una macchina dimostra un comportamento intelligente\n",
    "\n",
    "•\tValutare il carico computazionale di un algoritmo di Intelligenza Artificiale\n",
    "\n",
    "•\tValutare la velocità di risposta di un algoritmo di Intelligenza Artificiale\n",
    "\n",
    "•\tValutare se una macchina dimostra un comportamento predicibile\n"
   ]
  },
  {
   "cell_type": "markdown",
   "id": "248323f7-7a5a-478b-b446-71db7d2ff490",
   "metadata": {},
   "source": [
    "**4.**\n",
    "Le ultime e più recenti innovazioni nel campo dell’Intelligenza Artificiale sono:\n",
    "\n",
    "•\tCNN, GAN e Transformers\n",
    "\n",
    "•\tExpert Systems, CNN e GAN\n",
    "\n",
    "•\tExpert Systems, Deep Learning e CNN\n",
    "\n",
    "•\tCNN, Expert Systems e Transformers\n"
   ]
  },
  {
   "cell_type": "markdown",
   "id": "0ab76c03-ab08-49b8-a688-688ca2aa7cbe",
   "metadata": {},
   "source": [
    "**5.** A cosa serve il validation set?\n",
    "\n",
    "•\tA trovare i migliori iperparametri del modello\n",
    "\n",
    "•\tAd addestrare il modello \n",
    "\n",
    "•\tA testare il modello\n",
    "\n",
    "•\tA trovare le etichette dei dati di input\n"
   ]
  },
  {
   "cell_type": "markdown",
   "id": "b18ecaab-5021-450a-90d5-720082587ddb",
   "metadata": {},
   "source": [
    "**Domande aperte**"
   ]
  },
  {
   "cell_type": "markdown",
   "id": "9d9bcf40-f194-4892-ad65-a2055d694430",
   "metadata": {},
   "source": [
    "Quale è il ruolo del learning rate nella formula di aggiornamento dei pesi mediante gradient descent. Aggiornamento del learning rate programmato (learning rate scheduling) : step decay, decadimento esponenziale, decadimento dipendente dal tempo. **[punti 2]**"
   ]
  },
  {
   "cell_type": "markdown",
   "id": "6f184854-745b-413a-b707-026d69441abd",
   "metadata": {},
   "source": [
    "\n",
    "Learning rate adattivo per ogni peso (durante il processo di ottimizzazione) : Adagrad, RMSProp, Adadelta, Adam. (formula di aggiornamento dei pesi e discussioni)\n",
    "**[punti 2.5]**"
   ]
  },
  {
   "cell_type": "markdown",
   "id": "b24fca09-a7e4-4fc2-9dcb-f052a31248e4",
   "metadata": {},
   "source": []
  }
 ],
 "metadata": {
  "kernelspec": {
   "display_name": "Python 3 (ipykernel)",
   "language": "python",
   "name": "python3"
  },
  "language_info": {
   "codemirror_mode": {
    "name": "ipython",
    "version": 3
   },
   "file_extension": ".py",
   "mimetype": "text/x-python",
   "name": "python",
   "nbconvert_exporter": "python",
   "pygments_lexer": "ipython3",
   "version": "3.13.5"
  }
 },
 "nbformat": 4,
 "nbformat_minor": 5
}

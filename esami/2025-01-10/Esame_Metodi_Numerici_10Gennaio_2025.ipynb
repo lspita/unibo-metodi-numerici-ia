{
 "cells": [
  {
   "cell_type": "markdown",
   "id": "60ff1e86-85a2-45b1-9295-5d8e1897c7bc",
   "metadata": {},
   "source": [
    "## Esame Metodi Numerici  10 gennaio 2025 - Ore 14\n",
    "\n",
    "Si considerino i due sistemi lineari:\n",
    "\n",
    "     A  x = b \n",
    "\n",
    "    A1 x1 = b1\n",
    "\n",
    "dove A, A1 sono le matrici dei coefficienti, b e b1 sono i termini noti, ed x ed x1 sono i vettori incogniti da determinare.\n",
    "I dati di questi due sistemi lineari sono contenuti nel file **test.mat**.\n",
    "\n",
    "\n",
    "- Si risolva ciascuno dei sistemi lineari assegnati  utilizzato il metodo più adatto in base alle caratteristiche della matrice dei coefficienti, giustificando teoricamente le scelte effettuate.\n",
    "                                      **punti 5**\n",
    "\n",
    "Per il primo sistema lineare A x= b,  aggiungere una perturbazione dell' 1% sulla componente b[0]  del termine noto, e risolvere il sistema con termine noto perturbato. Calcolare quindi  l'errore relativo sulla soluzione e l'errore relativo sui dati e giustificare i risultati alla luce della teoria, richiamando il teorema relativo.\n",
    "                                      **punti 3**\n",
    "\n",
    "\n",
    "Per la lettura dei dati procedere nel seguente modo:\n",
    "\n",
    "``from scipy.io import loadmat``\n",
    "\n",
    "``import numpy as np``\n",
    "\n",
    "``dati = loadmat('test')``\n",
    "\n",
    "``A=dati[\"A\"] ``\n",
    "\n",
    "``A=A.astype(float)``\n",
    "\n",
    "`` b=dati[\"b\"] ``\n",
    "\n",
    "`` b=b.astype(float)``\n",
    "\n",
    "``A1=dati[\"A1\"] ``\n",
    "\n",
    "``A1=A1.astype(float)``\n",
    "\n",
    "`` b1=dati[\"b1\"] ``\n",
    "\n",
    "`` b1=b1.astype(float)``\n",
    "\n",
    " "
   ]
  },
  {
   "cell_type": "code",
   "execution_count": 1,
   "id": "6f8de787-eac5-406c-9f87-ba748c972011",
   "metadata": {},
   "outputs": [],
   "source": [
    "from scipy.io import loadmat\n",
    "import numpy as np\n",
    "import scipy as sp\n",
    "from SolveTriangular import Lsolve, Usolve\n",
    "\n",
    "dati = loadmat('test')\n",
    "\n",
    "A=dati[\"A\"] \n",
    "A=A.astype(float)\n",
    "b=dati[\"b\"]\n",
    "b=b.astype(float)\n",
    "\n",
    "A1=dati[\"A1\"] \n",
    "A1=A1.astype(float)\n",
    "b1=dati[\"b1\"]\n",
    "b1=b1.astype(float)"
   ]
  },
  {
   "cell_type": "code",
   "execution_count": 2,
   "id": "2858a21a-2c3b-452c-b7e3-7433d3e3774a",
   "metadata": {},
   "outputs": [
    {
     "name": "stdout",
     "output_type": "stream",
     "text": [
      "Matrice: A\n",
      "- dimensione: (20, 20)\n",
      "- quadrata: True\n",
      "- condizionamento: 9999.999999997885\n",
      "- densità: 0.08\n",
      "- diagonale strettamente dominante: False\n",
      "- simmetrica: True\n",
      "- definita positiva: True\n",
      "\n",
      "Matrice: A1\n",
      "- dimensione: (20, 15)\n",
      "- quadrata: False\n",
      "- condizionamento: 5.697438059606206e+16\n",
      "- rango massimo: False\n",
      "\n",
      "Soluzione x: [[1. 1. 1. 1. 1. 1. 1. 1. 1. 1. 1. 1. 1. 1. 1. 1. 1. 1. 1. 1.]]\n",
      "Soluzione x1: [[0.5210993  1.25827182 1.27889527 0.46087355 0.89024294 1.04762977\n",
      "  0.29616227 0.59585228 1.13383321 0.94430646 1.32127485 0.97301581\n",
      "  0.15568769 0.79644108 1.09968922]]\n",
      "Residuo x: 4.342304437574225e-12\n",
      "Residuo x1: 1.7410406697260612e-30\n"
     ]
    }
   ],
   "source": [
    "# punto 1\n",
    "def mostra_caratteristiche(nome, A):\n",
    "    print(\"Matrice:\", nome)\n",
    "    print(\"- dimensione:\", A.shape)\n",
    "    quadrata = A.shape[0] == A.shape[1]\n",
    "    print(\"- quadrata:\", quadrata)\n",
    "    print(\"- condizionamento:\", np.linalg.cond(A))\n",
    "    if quadrata:\n",
    "        print(\"- densità:\", np.count_nonzero(A)/np.prod(A.shape))\n",
    "        print(\"- diagonale strettamente dominante:\", np.all(2*np.diag(np.abs(A)) > np.sum(np.abs(A), axis=1))) # |Aii| > sum_j!=i|Aij| => 2|Aii| > sum_j|Aij|\n",
    "        print(\"- simmetrica:\", np.all(A.T==A))\n",
    "        print(\"- definita positiva:\", np.all(np.linalg.eigvals(A)>0))\n",
    "    else:\n",
    "        print(\"- rango massimo:\", np.linalg.matrix_rank(A)==np.min(A.shape))\n",
    "    print()\n",
    "\n",
    "mostra_caratteristiche(\"A\", A) # piccola, quadrata, mediamente/mal condizionata, sparsa, simmetrica, definita positiva \n",
    "mostra_caratteristiche(\"A1\", A1) # piccola, non quadrata (sistema sovradeterminato), mal condizionata, non a rango massimo\n",
    "\n",
    "# A: La matrice è quadrata. Sebbene piccola, la matrice è sparsa e mal condizionata, quindi escludo le fattorizzazioni LU, QR e di Cholesky. Essendo simmetrica, definita positiva e NON a diagonale\n",
    "# strettamente dominante, posso scegliere tra i metodi:\n",
    "# - Gauss-Seidel\n",
    "# - Gauss-Seidel SOR\n",
    "# - Steepest-descent (metodo del gradiente)\n",
    "# - Gradiente coniugato\n",
    "# Scelgo di implementare il metodo del gradiente coniugato\n",
    "\n",
    "# A1: La matrice non è quadrata, quindi rappresenta un sistema sovradeterminato. Oltre che essere mal condizionata, non ha rango massimo, rendendo quindi l'unico metodo di risoluzione possibile SVDLS.\n",
    "\n",
    "def conjugate_gradient(A,b,x0,itmax,tol):\n",
    "    n,m=A.shape\n",
    "    if n!=m:\n",
    "        print(\"Matrice non quadrata\")\n",
    "        return [],[]\n",
    "    \n",
    "    \n",
    "    # inizializzare le variabili necessarie\n",
    "    x = x0\n",
    "    \n",
    "    r = A@x-b\n",
    "    p = -r \n",
    "    it = 0\n",
    "    nb=np.linalg.norm(b)\n",
    "    errore=np.linalg.norm(r)/nb\n",
    "    vec_sol=[]\n",
    "    vec_sol.append(x0.copy())\n",
    "    vet_r=[]\n",
    "    vet_r.append(errore)\n",
    "    # utilizzare il metodo del gradiente coniugato per calcolare la soluzione\n",
    "    while it <= itmax and errore >= tol: \n",
    "        it=it+1\n",
    "        Ap=A@p\n",
    "        alpha = -(r.T@p)/(p.T@Ap) \n",
    "        x = x + alpha*p\n",
    "        vec_sol.append(x.copy())\n",
    "        rtr_old=r.T@r\n",
    "        r= r + alpha*Ap\n",
    "        gamma=r.T@r/rtr_old \n",
    "        errore=np.linalg.norm(r)/nb\n",
    "        vet_r.append(errore)\n",
    "        p = -r +gamma*p # scendo lungo il gradiente coniugato sul piano formato da -r e p\n",
    "    \n",
    "    iterates_array = np.vstack([arr.T for arr in vec_sol])\n",
    "    return x,vet_r,iterates_array,it\n",
    "\n",
    "def SVDLS(A,b):\n",
    "    m,n=A.shape  #numero di righe e  numero di colonne di A\n",
    "    U,s,VT=sp.linalg.svd(A)  \n",
    "    \n",
    "    V=VT.T\n",
    "    thresh=np.spacing(1)*m*s[0] ##Calcolo del rango della matrice, numero dei valori singolari maggiori di una soglia\n",
    "    k=np.count_nonzero(s>thresh) \n",
    "    \n",
    "    d=U.T@b\n",
    "    d1=d[:k].reshape((k,1)) \n",
    "    s1=s[:k].reshape((k,1)) \n",
    "    \n",
    "    c=d1/s1 \n",
    "    x=V[:,:k]@c \n",
    "    residuo=np.linalg.norm(d[k:])**2\n",
    "    return x,residuo\n",
    "\n",
    "x0 = np.zeros_like(b)\n",
    "itmax = 1000\n",
    "tol = 1e-10\n",
    "x, r_x, _, _ = conjugate_gradient(A, b, x0, itmax, tol)\n",
    "x1, r_x1 = SVDLS(A1, b1)\n",
    "\n",
    "# Soluzioni trasposte per comodità di stampa\n",
    "print(\"Soluzione x:\", x.T)\n",
    "print(\"Soluzione x1:\", x1.T)\n",
    "print(\"Residuo x:\", r_x[-1])\n",
    "print(\"Residuo x1:\", r_x1)"
   ]
  },
  {
   "cell_type": "code",
   "execution_count": 3,
   "id": "080b4dc9-80c4-44b5-bf7a-1fcbc97689ba",
   "metadata": {},
   "outputs": [
    {
     "name": "stdout",
     "output_type": "stream",
     "text": [
      "Errore b: 0.0006510394358331369\n",
      "Errore x: 0.10437656774071682\n"
     ]
    }
   ],
   "source": [
    "# punto 2\n",
    "# bb = b + perturbazione\n",
    "bb = b.copy()\n",
    "bb[0] += bb[0] / 100\n",
    "\n",
    "## xx = soluzione con b perturbato\n",
    "xx, r_xx, _, _ = conjugate_gradient(A, bb, x0, itmax, tol)\n",
    "\n",
    "err = lambda x, expected: np.linalg.norm(x-expected)/np.linalg.norm(x)\n",
    "print(\"Errore b:\", err(bb, b))\n",
    "print(\"Errore x:\", err(xx, x))\n",
    "\n",
    "# La matrice A è al limite tra il medio e il mal condizionamento (K=1000), che è un fattore che indica quanto una perturbazione sui dati cresce nella soluzione, difatti un errore piccolo sui dati di \n",
    "# partenza (0.00065) porta ad un errore piccolo ma comunque più elevato di quello sui dati (0.10438)."
   ]
  },
  {
   "cell_type": "markdown",
   "id": "720cdc8a-f858-45aa-84f5-274e7c96a1eb",
   "metadata": {},
   "source": [
    "\n",
    "- Dato il sistema lineare \n",
    "A3 x3 = b3\n",
    "dove \n",
    "\n",
    "A3=np.array([[8,0,1],[0,12,2],[1,2,-14.0]])\n",
    "b3= np.array([9.0, 14.0,  -11.0])\n",
    "\n",
    "- Verificare senza calcolare il raggio spettrale della matrice di iterazione che il metodo di Gauss-Seidel converge, richiamando il teorema che garantisce la convergenza di Gauss-Seidel per classi particolari di \n",
    "matrici     **punti[1]**.\n",
    "- Implementare il metodo di Gauss-Seidel  e risolvere il sistema lineare A3 x3= b3 con  **punti[3]**.\n",
    "\n",
    "Totale **Punti 12**"
   ]
  },
  {
   "cell_type": "code",
   "execution_count": 4,
   "id": "a3d4e240-a7ab-4409-9da8-b4ca37a30303",
   "metadata": {},
   "outputs": [
    {
     "name": "stdout",
     "output_type": "stream",
     "text": [
      "Matrice: A3\n",
      "- dimensione: (3, 3)\n",
      "- quadrata: True\n",
      "- condizionamento: 1.7651462497889765\n",
      "- densità: 0.7777777777777778\n",
      "- diagonale strettamente dominante: True\n",
      "- simmetrica: True\n",
      "- definita positiva: False\n",
      "\n"
     ]
    }
   ],
   "source": [
    "# punto 3\n",
    "A3=np.array([[8,0,1],[0,12,2],[1,2,-14.0]])\n",
    "n3 = A3.shape[0]\n",
    "b3= np.array([9.0, 14.0, -11.0]).reshape((n3, 1)) # b3 trasposto per diventare dei vettore termini noti\n",
    "\n",
    "# mostriamo le caratteristiche della matrice\n",
    "mostra_caratteristiche(\"A3\", A3)\n",
    "\n",
    "# Nonostante non sia definita positiva, il metodo di Gauss-Seidel converge in quanto la matrice A3 è a diagonale strettamente dominante"
   ]
  },
  {
   "cell_type": "code",
   "execution_count": 5,
   "id": "c03b13b4-186c-4a9e-aba6-a61da0b1612b",
   "metadata": {},
   "outputs": [
    {
     "name": "stdout",
     "output_type": "stream",
     "text": [
      "raggio spettrale Gauss-Seidel  0.03273809523809523\n",
      "Soluzione x3 (9 iterazioni): [[1.]\n",
      " [1.]\n",
      " [1.]]\n",
      "Errore finale x3: 5.068329982965351e-12\n"
     ]
    }
   ],
   "source": [
    "# punto 4\n",
    "def gauss_seidel(A,b,x0,toll,it_max):\n",
    "    errore=1000\n",
    "    d=np.diag(A)\n",
    "    D=np.diag(d) \n",
    "    E=np.tril(A, -1) \n",
    "    F=np.triu(A, 1) \n",
    "    M=D+E \n",
    "    N=-F \n",
    "    invM=np.linalg.inv(M)\n",
    "    T=invM@N \n",
    "    autovalori=np.linalg.eigvals(T)\n",
    "    raggiospettrale=np.max(np.abs(autovalori)) \n",
    "    print(\"raggio spettrale Gauss-Seidel \",raggiospettrale)\n",
    "    it=0\n",
    "    er_vet=[]\n",
    "    while it <= it_max and errore >= toll: \n",
    "        x,_=Lsolve(M, b+N@x0) \n",
    "        errore=np.linalg.norm(x-x0)/np.linalg.norm(x) \n",
    "        er_vet.append(errore)\n",
    "        x0=x.copy()\n",
    "        it=it+1\n",
    "    return x,it,er_vet\n",
    "\n",
    "x0 = np.zeros_like(b3)\n",
    "toll = 1e-10\n",
    "it_max = 1000\n",
    "x3, it_x3, err_x3 = gauss_seidel(A3, b3, x0, toll, it_max)\n",
    "print(f\"Soluzione x3 ({it_x3} iterazioni): {x3}\")\n",
    "print(\"Errore finale x3:\", err_x3[-1])"
   ]
  },
  {
   "cell_type": "markdown",
   "id": "f543c936-6f8e-4115-b920-d5087ffc2a09",
   "metadata": {},
   "source": [
    "# Esercizio 2"
   ]
  },
  {
   "cell_type": "code",
   "execution_count": 6,
   "id": "166e7837-8f2a-4d35-b355-a436418f5200",
   "metadata": {},
   "outputs": [],
   "source": [
    "import numpy as np\n",
    "import matplotlib.pyplot as plt"
   ]
  },
  {
   "cell_type": "markdown",
   "id": "d9f3e0cd-b8bb-4e1d-9f41-c77e4d6be284",
   "metadata": {},
   "source": [
    "Implementare le function necessarie per costruire il polinomio interpolante di Lagrange. \n",
    "                                       **[4 punti]**\n",
    "                                                         "
   ]
  },
  {
   "cell_type": "code",
   "execution_count": 7,
   "id": "b14be938-4e25-4f89-8290-fe19aa0298cc",
   "metadata": {},
   "outputs": [],
   "source": [
    "# punto 1\n",
    "def plagr(xnodi,j):\n",
    "    xzeri=np.zeros_like(xnodi)\n",
    "    n=xnodi.size\n",
    "    if j==0:\n",
    "       xzeri=xnodi[1:n] \n",
    "    else:\n",
    "       xzeri=np.append(xnodi[:j], xnodi[j+1:n])\n",
    "    \n",
    "    num=np.poly(xzeri)\n",
    "    den=np.polyval(num, xnodi[j])\n",
    "    \n",
    "    p=num/den\n",
    "    return p\n",
    "\n",
    "\n",
    "\n",
    "def InterpL(x, y, xx):\n",
    "     n=x.size\n",
    "     m=xx.size \n",
    "     L=np.zeros((m,n))\n",
    "     for j in range(n):\n",
    "        p=plagr(x, j)\n",
    "        L[:,j]=np.polyval(p, xx) \n",
    "    \n",
    "    \n",
    "     return L@y"
   ]
  },
  {
   "cell_type": "markdown",
   "id": "f17cc9f6-e704-4482-8267-081ed315deb3",
   "metadata": {},
   "source": [
    "Sia assegnata la funzione $f(x)=cos(\\pi x)+sin(\\pi x)$, $ x \\in [0,2]$,\n",
    "facendo uso delle functions implementate precedentemente, si determini il polinomio p che interpola f nei nodi  x0 = 1, x1 = 1.5, x2 = 1.75 e si rappresenti in uno stesso grafico la funzione f, il polinomio p e i punti di interpolazione assegnati;\n",
    "                                          **[2 punti]**"
   ]
  },
  {
   "cell_type": "code",
   "execution_count": 8,
   "id": "e651f9f8-6f56-4045-b7d4-56587699bd23",
   "metadata": {},
   "outputs": [
    {
     "data": {
      "image/png": "[encoded data removed]",
      "text/plain": [
       "<Figure size 640x480 with 1 Axes>"
      ]
     },
     "metadata": {},
     "output_type": "display_data"
    }
   ],
   "source": [
    "f = lambda x: np.cos(np.pi*x)+np.sin(np.pi*x)\n",
    "x = np.array([1.0, 1.5, 1.75]) # x0, x1, x2\n",
    "y = f(x)\n",
    "xx = np.linspace(0, 2, 100)\n",
    "yy = InterpL(x, y, xx)\n",
    "\n",
    "plt.plot(x, y, \"ro\", label=\"Punti di interpolazione x0, x1, x2\")\n",
    "plt.plot(xx, f(xx), \"r-\", label=\"f(x)\")\n",
    "plt.plot(xx, yy, \"b--\", label=\"p(x)\")\n",
    "plt.legend()\n",
    "plt.show()"
   ]
  },
  {
   "cell_type": "markdown",
   "id": "0e8e47f4-5420-4522-a62a-acccc880f6bb",
   "metadata": {},
   "source": [
    " si calcoli il valore assunto dalla funzione errore E(x) := |f(x) − p(x)| nel punto $x^∗$ = 0.75 e si definisca teoricamente da cosa dipende l'errore che si compie quando al posto del polinomio interpolatore si considera la funzione che ha generato i dati, commentando opportunamente la formula \n",
    "                                                             **[3 punti]**"
   ]
  },
  {
   "cell_type": "code",
   "execution_count": 9,
   "id": "ad970f7c-cba8-4cbb-a28b-3cdbc56983d2",
   "metadata": {},
   "outputs": [
    {
     "name": "stdout",
     "output_type": "stream",
     "text": [
      "f(x*): 1.1102230246251565e-16\n",
      "p(x*): 3.3306690738754696e-16\n",
      "Errore x*: 2.220446049250313e-16\n"
     ]
    }
   ],
   "source": [
    "xs = 0.75 # x*\n",
    "ys=f(xs)\n",
    "yys=InterpL(x, y, np.array([xs]))[0]\n",
    "            \n",
    "err_xs = np.abs(ys-yys)\n",
    "print(\"f(x*):\", ys)\n",
    "print(\"p(x*):\", yys)\n",
    "print(\"Errore x*:\", err_xs)\n",
    "\n",
    "# L'errore è dovuto dal fatto che il polinomio interpolatore assicura di avere il valore esatto f(x) nelle x usate per la costruzione dell'interpolazione, ma approssima negli altri punti.\n",
    "# Aggiungendo ulteriori punti di interpolazione, soprattuto vicino allo 0 in cui non ce ne sono, il polinomio avrebbe avuto un'approssimazione migliore intorno ad x*."
   ]
  },
  {
   "cell_type": "markdown",
   "id": "d3928581-2fbd-47a2-98bd-4ae41a427372",
   "metadata": {},
   "source": [
    "si stabilisca qual è il polinomio interpolatore per f passante per i nodi $x^*$ \n",
    ", x0, x1 e x2.   **[1 punto]**"
   ]
  },
  {
   "cell_type": "code",
   "execution_count": 10,
   "id": "64c9f4d4-d071-486f-abd7-47dd664b2c35",
   "metadata": {},
   "outputs": [
    {
     "data": {
      "image/png": "[encoded data removed]",
      "text/plain": [
       "<Figure size 640x480 with 1 Axes>"
      ]
     },
     "metadata": {},
     "output_type": "display_data"
    }
   ],
   "source": [
    "x2 = np.sort(np.append(x, [xs]))\n",
    "y2 = f(x2)\n",
    "yy2 = InterpL(x2, y2, xx)\n",
    "\n",
    "plt.plot(x2, y2, \"ro\", label=\"Punti di interpolazione x*, x0, x1, x2\")\n",
    "plt.plot(xx, f(xx), \"r-\", label=\"f(x)\")\n",
    "plt.plot(xx, yy2, \"b--\", label=\"p(x)\")\n",
    "plt.legend()\n",
    "plt.show()"
   ]
  },
  {
   "cell_type": "markdown",
   "id": "3f8c549a-d714-47e4-a3c7-5e4c98a827f7",
   "metadata": {},
   "source": [
    "Si calcoli la costante di Lebesgue per il problema di interpolazione in esame  e si dica che ruolo svolge nell'ambito dell'interpolazione polinomiale\n",
    "                               **[3 punti]**"
   ]
  },
  {
   "cell_type": "markdown",
   "id": "a57c0b42-c718-4663-a13c-40b35c01199d",
   "metadata": {},
   "source": [
    "Totale **Punti 13**"
   ]
  },
  {
   "cell_type": "markdown",
   "id": "2e317e55-6983-4f36-9f54-91ab25ee6e3e",
   "metadata": {},
   "source": [
    "## Domande Intelligenza Artificiale\n",
    "**NB: Ogni risposta esatta:  +0.5 punti, ogni risposta errata: -0.5 punti. La mancanza di risposta:  0 punti**"
   ]
  },
  {
   "cell_type": "markdown",
   "id": "11eacd04-c27a-44de-9d44-47c0431c9275",
   "metadata": {},
   "source": [
    "**Risolvere un problema mediante Machine Learning significa**: A\n",
    "- Fornire alla macchina i dati affinchè impari da sola a risolvere il problema\n",
    "- Fornire alla macchina solo dati etichettati affinchè impari da sola a risolvere il problema\n",
    "- Fornire alla macchina solo dati non etichettati affinchè impari da sola a risolvere il problema\n",
    "- Fornire alla macchina le esatte istruzioni per risolvere il problema\n",
    "edizione"
   ]
  },
  {
   "cell_type": "markdown",
   "id": "52b1e385-3ea5-4137-88f0-4661d5e23745",
   "metadata": {},
   "source": [
    "**2  A cosa serve il validation set?** A\n",
    "\n",
    "-  A trovare i migliori iperparametri del modello\n",
    "\n",
    "-  Ad addestrare il modello\n",
    "\n",
    "-  A testare il modello\n",
    "\n",
    "-  A trovare le etichette dei dati di input"
   ]
  },
  {
   "cell_type": "markdown",
   "id": "aeccbc74-c0d5-46ca-9e99-646df20e8f84",
   "metadata": {},
   "source": [
    "**3  Una classica rete CNN è solitamente composta da:** B\n",
    "\n",
    "· Layer convolutivi seguiti da layer di pooling, flatten layer e neuroni completamente connessi\n",
    "\n",
    "· Layer di pooling seguiti da layer convolutivi, flatten layer e neuroni completamente connessi\n",
    "\n",
    "· Layer convolutivi seguiti da layer di pooling, flatten layer e softmax\n",
    "\n",
    "· Layer di pooling seguiti da layer convolutivi, flatten layer e softmax"
   ]
  },
  {
   "cell_type": "markdown",
   "id": "4ab0b3aa-6477-4cba-b2ce-cdb4d34ecdfb",
   "metadata": {},
   "source": [
    "**4 Il livello softmax** A\n",
    "- Trasforma i digits della rete in probabilità\n",
    "- Trasforma le probabilità della rete in digits\n",
    "- Normalizza i valori di input della rete\n",
    "- È indispensabile nel task di regressione\n",
    "lla rete"
   ]
  },
  {
   "cell_type": "markdown",
   "id": "0e870471-00c9-44d6-8668-b173ca092cfb",
   "metadata": {},
   "source": [
    "**5 Per una rete neurale, l’apprendimento è legato a:** A\n",
    "- \tMinimizzare la funzione obiettivo\n",
    "- Minimizzare la funzione di attivazione\n",
    "- \tMassimizzare il valore dei pesi tramite l’algoritmo di back-propagation\n",
    "- Massimizzare il valore della funzione di training\n"
   ]
  },
  {
   "cell_type": "markdown",
   "id": "db908255-e5db-445d-a7d3-0ade6c91ff8a",
   "metadata": {},
   "source": [
    "**Domande Aperte**"
   ]
  },
  {
   "cell_type": "markdown",
   "id": "033c25a0-67eb-43bd-9c08-021c7b22dbd4",
   "metadata": {},
   "source": [
    "**6. Spiega in modo dettagliato come il learning rate influenza la convergenza di una rete neurale durante il training. Quali sono le conseguenze di un learning rate troppo alto o troppo basso nel training di una rete neurale. Descrivi le principali strategie di  aggiornamentodel  learning rate durante il training di una rete neurale.** [punti 1.5]"
   ]
  },
  {
   "cell_type": "markdown",
   "id": "a36b5eec-ff7b-46f9-a3ad-dedd55fe1c66",
   "metadata": {},
   "source": [
    "**7. Descrivi in dettaglio l'algoritmo di discesa del gradiente con momento. Quali sono le motivazioni che hanno portato alla sua introduzione rispetto alla discesa del gradiente standard? Fornisci la formula matematica dell'aggiornamento dei pesi in questo algoritmo e spiega il ruolo del termine di momento** [punti 3]"
   ]
  },
  {
   "cell_type": "markdown",
   "id": "963e8c24-9871-4495-8a7c-61285e69e453",
   "metadata": {},
   "source": [
    "**6:** Il learning rate influisce sulla convergenza di una rete neurale durante il training in quanto indica la grandezza del \"passo\" che si compie ogni iterazione per cercare di minimizzare la funzione costo, che rappresenta l'errore compiuto dalla rete. Un learning rate troppo alto rischia di saltare completamente possibili punti di minimo oltrepassando completamente la discesa, mentre un learning rate troppo basso potrebbe rendere l'apprendimento troppo lento a causa di aggiustamenti troppo piccoli, oltre che rischiare di bloccare l'apprendimento in minimi locali o zone di plateau.\n",
    "Le strategie principali di aggiornamento del learning rate sono:\n",
    "- step-decay: Il learning rate è diminuito di un valore prestabilito ogni iterazione\n",
    "- decrescita esponenziale: il learning rate è diminuito secondo una curva esponenziale (e^parametro negativo)\n",
    "- decrescita in funzione del tempo: il learning rate è diminuito in funzione del numero di iterazioni svolte"
   ]
  },
  {
   "cell_type": "markdown",
   "id": "fa48cb20-2e97-4574-9f34-ebc3a63b5918",
   "metadata": {},
   "source": [
    "**7:** L'algoritmo di discesa del gradiente con momento si basa sul concetto di \"momentum\" (o velocità), ovvero un fattore moltiplicatore che si assegna alla discesa nella direzione opposta al gradiente (massima decrescita) che varia in funzione dei gradienti passati: questo valore infatti aumenta di molto (e quindi favorisce la discesa) quando i gradienti passati tendono ad andare lungo la stessa direzione, mentre resta neutro quando i gradienti vanno in direzioni opposte per cercare di annullarli a vicenda.\n",
    "La sua introduzione è avvenuta per creare un algoritmo che fosse una via di mezzo tra la discesa del gradiente standard, che scende secondo il valore dei gradienti quadrati portando spesso ad una decrescita troppo veloce e quindi ad un learning rate troppo basso in poco tempo, e il metodo RDMProp, che decresce invece secondo la media esponenziale dei gradienti."
   ]
  }
 ],
 "metadata": {
  "kernelspec": {
   "display_name": "Python 3 (ipykernel)",
   "language": "python",
   "name": "python3"
  },
  "language_info": {
   "codemirror_mode": {
    "name": "ipython",
    "version": 3
   },
   "file_extension": ".py",
   "mimetype": "text/x-python",
   "name": "python",
   "nbconvert_exporter": "python",
   "pygments_lexer": "ipython3",
   "version": "3.13.5"
  }
 },
 "nbformat": 4,
 "nbformat_minor": 5
}

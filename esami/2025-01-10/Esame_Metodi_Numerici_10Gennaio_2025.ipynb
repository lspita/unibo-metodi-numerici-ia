{
 "cells": [
  {
   "cell_type": "markdown",
   "id": "60ff1e86-85a2-45b1-9295-5d8e1897c7bc",
   "metadata": {},
   "source": [
    "## Esame Metodi Numerici  10 gennaio 2025 - Ore 14\n",
    "\n",
    "Si considerino i due sistemi lineari:\n",
    "\n",
    "     A  x = b \n",
    "\n",
    "    A1 x1 = b1\n",
    "\n",
    "dove A, A1 sono le matrici dei coefficienti, b e b1 sono i termini noti, ed x ed x1 sono i vettori incogniti da determinare.\n",
    "I dati di questi due sistemi lineari sono contenuti nel file **test.mat**.\n",
    "\n",
    "\n",
    "- Si risolva ciascuno dei sistemi lineari assegnati  utilizzato il metodo più adatto in base alle caratteristiche della matrice dei coefficienti, giustificando teoricamente le scelte effettuate.\n",
    "                                      **punti 5**\n",
    "\n",
    "Per il primo sistema lineare A x= b,  aggiungere una perturbazione dell' 1% sulla componente b[0]  del termine noto, e risolvere il sistema con termine noto perturbato. Calcolare quindi  l'errore relativo sulla soluzione e l'errore relativo sui dati e giustificare i risultati alla luce della teoria, richiamando il teorema relativo.\n",
    "                                      **punti 3**\n",
    "\n",
    "\n",
    "Per la lettura dei dati procedere nel seguente modo:\n",
    "\n",
    "``from scipy.io import loadmat``\n",
    "\n",
    "``import numpy as np``\n",
    "\n",
    "``dati = loadmat('test')``\n",
    "\n",
    "``A=dati[\"A\"] ``\n",
    "\n",
    "``A=A.astype(float)``\n",
    "\n",
    "`` b=dati[\"b\"] ``\n",
    "\n",
    "`` b=b.astype(float)``\n",
    "\n",
    "``A1=dati[\"A1\"] ``\n",
    "\n",
    "``A1=A1.astype(float)``\n",
    "\n",
    "`` b1=dati[\"b1\"] ``\n",
    "\n",
    "`` b1=b1.astype(float)``\n",
    "\n",
    " "
   ]
  },
  {
   "cell_type": "markdown",
   "id": "720cdc8a-f858-45aa-84f5-274e7c96a1eb",
   "metadata": {},
   "source": [
    "\n",
    "- Dato il sistema lineare \n",
    "A3 x3 = b3\n",
    "dove \n",
    "\n",
    "A3=np.array([[8,0,1],[0,12,2],[1,2,-14.0]])\n",
    "b3= np.array([9.0, 14.0,  -11.0])\n",
    "\n",
    "- Verificare senza calcolare il raggio spettrale della matrice di iterazione che il metodo di Gauss-Seidel converge, richiamando il teorema che garantisce la convergenza di Gauss-Seidel per classi particolari di \n",
    "matrici     **punti[1]**.\n",
    "- Implementare il metodo di Gauss-Seidel  e risolvere il sistema lineare A3 x3= b3 con  **punti[3]**.\n",
    "\n",
    "Totale **Punti 12**"
   ]
  },
  {
   "cell_type": "markdown",
   "id": "f543c936-6f8e-4115-b920-d5087ffc2a09",
   "metadata": {},
   "source": [
    "# Esercizio 2"
   ]
  },
  {
   "cell_type": "markdown",
   "id": "d9f3e0cd-b8bb-4e1d-9f41-c77e4d6be284",
   "metadata": {},
   "source": [
    "Implementare le function necessarie per costruire il polinomio interpolante di Lagrange. \n",
    "                                       **[4 punti]**\n",
    "                                                         "
   ]
  },
  {
   "cell_type": "markdown",
   "id": "f17cc9f6-e704-4482-8267-081ed315deb3",
   "metadata": {},
   "source": [
    "Sia assegnata la funzione $f(x)=cos(\\pi x)+sin(\\pi x)$, $ x \\in [0,2]$,\n",
    "facendo uso delle functions implementate precedentemente, si determini il polinomio p che interpola f nei nodi  x0 = 1, x1 = 1.5, x2 = 1.75 e si rappresenti in uno stesso grafico la funzione f, il polinomio p e i punti di interpolazione assegnati;\n",
    "                                          **[2 punti]**"
   ]
  },
  {
   "cell_type": "markdown",
   "id": "0e8e47f4-5420-4522-a62a-acccc880f6bb",
   "metadata": {},
   "source": [
    " si calcoli il valore assunto dalla funzione errore E(x) := |f(x) − p(x)| nel punto $x^∗$ = 0.75 e si definisca teoricamente da cosa dipende l'errore che si compie quando al posto del polinomio interpolatore si considera la funzione che ha generato i dati, commentando opportunamente la formula \n",
    "                                                             **[3 punti]**"
   ]
  },
  {
   "cell_type": "markdown",
   "id": "d3928581-2fbd-47a2-98bd-4ae41a427372",
   "metadata": {},
   "source": [
    "si stabilisca qual è il polinomio interpolatore per f passante per i nodi $x^*$ \n",
    ", x0, x1 e x2.   **[1 punto]**"
   ]
  },
  {
   "cell_type": "markdown",
   "id": "3f8c549a-d714-47e4-a3c7-5e4c98a827f7",
   "metadata": {},
   "source": [
    "Si calcoli la costante di Lebesgue per il problema di interpolazione in esame  e si dica che ruolo svolge nell'ambito dell'interpolazione polinomiale\n",
    "                               **[3 punti]**"
   ]
  },
  {
   "cell_type": "markdown",
   "id": "a57c0b42-c718-4663-a13c-40b35c01199d",
   "metadata": {},
   "source": [
    "Totale **Punti 13**"
   ]
  },
  {
   "cell_type": "markdown",
   "id": "2e317e55-6983-4f36-9f54-91ab25ee6e3e",
   "metadata": {},
   "source": [
    "## Domande Intelligenza Artificiale\n",
    "**NB: Ogni risposta esatta:  +0.5 punti, ogni risposta errata: -0.5 punti. La mancanza di risposta:  0 punti**"
   ]
  },
  {
   "cell_type": "markdown",
   "id": "11eacd04-c27a-44de-9d44-47c0431c9275",
   "metadata": {},
   "source": [
    "**Risolvere un problema mediante Machine Learning significa**:\n",
    "- Fornire alla macchina i dati affinchè impari da sola a risolvere il problema\n",
    "- Fornire alla macchina solo dati etichettati affinchè impari da sola a risolvere il problema\n",
    "- Fornire alla macchina solo dati non etichettati affinchè impari da sola a risolvere il problema\n",
    "- Fornire alla macchina le esatte istruzioni per risolvere il problema\n",
    "edizione"
   ]
  },
  {
   "cell_type": "markdown",
   "id": "52b1e385-3ea5-4137-88f0-4661d5e23745",
   "metadata": {},
   "source": [
    "**2  A cosa serve il validation set?**\n",
    "\n",
    "-  A trovare i migliori iperparametri del modello\n",
    "\n",
    "-  Ad addestrare il modello\n",
    "\n",
    "-  A testare il modello\n",
    "\n",
    "-  A trovare le etichette dei dati di input"
   ]
  },
  {
   "cell_type": "markdown",
   "id": "aeccbc74-c0d5-46ca-9e99-646df20e8f84",
   "metadata": {},
   "source": [
    "**3  Una classica rete CNN è solitamente composta da:**\n",
    "\n",
    "· Layer convolutivi seguiti da layer di pooling, flatten layer e neuroni completamente connessi\n",
    "\n",
    "· Layer di pooling seguiti da layer convolutivi, flatten layer e neuroni completamente connessi\n",
    "\n",
    "· Layer convolutivi seguiti da layer di pooling, flatten layer e softmax\n",
    "\n",
    "· Layer di pooling seguiti da layer convolutivi, flatten layer e softmax"
   ]
  },
  {
   "cell_type": "markdown",
   "id": "4ab0b3aa-6477-4cba-b2ce-cdb4d34ecdfb",
   "metadata": {},
   "source": [
    "**4 Il livello softmax**\n",
    "- Trasforma i digits della rete in probabilità\n",
    "- Trasforma le probabilità della rete in digits\n",
    "- Normalizza i valori di input della rete\n",
    "- È indispensabile nel task di regressione\n",
    "lla rete"
   ]
  },
  {
   "cell_type": "markdown",
   "id": "0e870471-00c9-44d6-8668-b173ca092cfb",
   "metadata": {},
   "source": [
    "**5 Per una rete neurale, l’apprendimento è legato a:**\n",
    "- \tMinimizzare la funzione obiettivo\n",
    "- Minimizzare la funzione di attivazione\n",
    "- \tMassimizzare il valore dei pesi tramite l’algoritmo di back-propagation\n",
    "- Massimizzare il valore della funzione di training\n"
   ]
  },
  {
   "cell_type": "markdown",
   "id": "db908255-e5db-445d-a7d3-0ade6c91ff8a",
   "metadata": {},
   "source": [
    "**Domande Aperte**"
   ]
  },
  {
   "cell_type": "markdown",
   "id": "033c25a0-67eb-43bd-9c08-021c7b22dbd4",
   "metadata": {},
   "source": [
    "**6. Spiega in modo dettagliato come il learning rate influenza la convergenza di una rete neurale durante il training. Quali sono le conseguenze di un learning rate troppo alto o troppo basso nel training di una rete neurale. Descrivi le principali strategie di  aggiornamentodel  learning rate durante il training di una rete neurale.** [punti 1.5]"
   ]
  },
  {
   "cell_type": "markdown",
   "id": "a36b5eec-ff7b-46f9-a3ad-dedd55fe1c66",
   "metadata": {},
   "source": [
    "**7. Descrivi in dettaglio l'algoritmo di discesa del gradiente con momento. Quali sono le motivazioni che hanno portato alla sua introduzione rispetto alla discesa del gradiente standard? Fornisci la formula matematica dell'aggiornamento dei pesi in questo algoritmo e spiega il ruolo del termine di momento** [punti 3]"
   ]
  },
  {
   "cell_type": "code",
   "execution_count": null,
   "id": "8722083f-dd2e-4c0c-a3a6-472f328d6d65",
   "metadata": {},
   "outputs": [],
   "source": []
  }
 ],
 "metadata": {
  "kernelspec": {
   "display_name": "Python 3 (ipykernel)",
   "language": "python",
   "name": "python3"
  },
  "language_info": {
   "codemirror_mode": {
    "name": "ipython",
    "version": 3
   },
   "file_extension": ".py",
   "mimetype": "text/x-python",
   "name": "python",
   "nbconvert_exporter": "python",
   "pygments_lexer": "ipython3",
   "version": "3.13.5"
  }
 },
 "nbformat": 4,
 "nbformat_minor": 5
}

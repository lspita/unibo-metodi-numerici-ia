{
 "cells": [
  {
   "cell_type": "markdown",
   "id": "b97be3ab-d6dd-495f-a342-e5e837cfb8bc",
   "metadata": {},
   "source": [
    "# Esercitazione 4 - 11 Marzo 2025\n",
    " "
   ]
  },
  {
   "cell_type": "code",
   "execution_count": 45,
   "id": "c7267dae-f292-4eee-83a0-aac7fb2c7ea4",
   "metadata": {},
   "outputs": [],
   "source": [
    "import numpy as np\n",
    "import matplotlib.pyplot as plt"
   ]
  },
  {
   "cell_type": "markdown",
   "id": "3f58ec10-478d-463a-9828-9f4d7fbd2f2c",
   "metadata": {},
   "source": [
    "Esplorate le caratteristiche dell'insieme dei numeri di macchina F($\\beta$,t,L,U) sul vostro calcolatore utilizzando il comando sys.float_info, dopo aver importato im modulo sys:"
   ]
  },
  {
   "cell_type": "code",
   "execution_count": 5,
   "id": "4d0519d8-6f5f-45ff-acef-d17118837d81",
   "metadata": {},
   "outputs": [
    {
     "name": "stdout",
     "output_type": "stream",
     "text": [
      "sys.float_info(max=1.7976931348623157e+308, max_exp=1024, max_10_exp=308, min=2.2250738585072014e-308, min_exp=-1021, min_10_exp=-307, dig=15, mant_dig=53, epsilon=2.220446049250313e-16, radix=2, rounds=1)\n"
     ]
    }
   ],
   "source": [
    "import sys\n",
    "print(sys.float_info)"
   ]
  },
  {
   "cell_type": "markdown",
   "id": "224ac7e6-31df-4f15-8ffc-9c82bd21c82e",
   "metadata": {},
   "source": [
    "- **1.**  Calcolare lo spacing in  $[2^{52}, 2^{53}]$.\n",
    "    - Sia $x=2^{52}$ individuare il numero successivo a $2^{52}$ ed assegnarlo ad una variabile  y.\n",
    "    - Cosa succede se consideriamo il valore z=x+0.5?\n",
    "    - Cosa succede se consideriamo il valore q=y+0.5?\n",
    "  "
   ]
  },
  {
   "cell_type": "code",
   "execution_count": 7,
   "id": "24638c55-8800-4fc3-9d16-b0e2e88d9d58",
   "metadata": {},
   "outputs": [
    {
     "name": "stdout",
     "output_type": "stream",
     "text": [
      "spacing: 1.0\n",
      "x: 4503599627370496.0\n",
      "y: 4503599627370497.0\n",
      "z: 4503599627370496.0\n",
      "q: 4503599627370498.0\n"
     ]
    }
   ],
   "source": [
    "p=52\n",
    "t=53\n",
    "beta=2.0\n",
    "spacing=beta**(p+1-t)\n",
    "print(\"spacing:\", spacing)\n",
    "x=beta**p\n",
    "y=x+spacing\n",
    "print(\"x:\", x)\n",
    "print(\"y:\", y)\n",
    "z = x + 0.5\n",
    "q = y + 0.5\n",
    "print(\"z:\", z) # 0.5 < spacing, round to nearest even (smaller)\n",
    "print(\"q:\", q) # 0.5 < spacing, round to nearest even (bigger)"
   ]
  },
  {
   "cell_type": "markdown",
   "id": "75b56b10-fbb6-4e48-9f52-ecbdc2d89a94",
   "metadata": {},
   "source": [
    "- **2** Calcolare la cardinalità dell'insieme dei numeri finiti di Python"
   ]
  },
  {
   "cell_type": "code",
   "execution_count": 8,
   "id": "f7175bf7-820e-4bf6-8f8a-17063f7b0790",
   "metadata": {},
   "outputs": [
    {
     "name": "stdout",
     "output_type": "stream",
     "text": [
      "1.8014398509481984e+16\n"
     ]
    }
   ],
   "source": [
    "L = 1022 # min exponent (negative)\n",
    "U = 1023 # max exponent\n",
    "cardinality=2 * (beta - 1) * (beta ** (t-1)) * (U - L + 1) + 1\n",
    "print(cardinality)"
   ]
  },
  {
   "cell_type": "markdown",
   "id": "cee853bd-aca6-47f4-980f-7e44473f7523",
   "metadata": {},
   "source": [
    "- **3**  Verificare numericamente che $\\texttt{eps} = 2^{-52}$, spacing nell'intervallo $[1, 2]$,\n",
    "è il piu' piccolo $x$ tale che $fl(1 + x)$ è  diverso da $1$."
   ]
  },
  {
   "cell_type": "code",
   "execution_count": 22,
   "id": "cd9d139a-68be-485e-babd-65a75f4bce8c",
   "metadata": {},
   "outputs": [
    {
     "name": "stdout",
     "output_type": "stream",
     "text": [
      "spacing: 2.220446049250313e-16\n",
      "eps: 2.220446049250313e-16\n",
      "x: 1.0000000000000002\n",
      "y: 1.0\n"
     ]
    }
   ],
   "source": [
    "p = 0 # exponent for 1, min in the interval\n",
    "spacing = beta ** (p + 1 - t)\n",
    "eps = 2 ** -52\n",
    "print(\"spacing:\", spacing)\n",
    "print(\"eps:\", eps)\n",
    "x = 1.0 + spacing\n",
    "print(\"x:\", x)\n",
    "y = 1.0 + (spacing / 2) # reduce spacing\n",
    "print(\"y:\", y)"
   ]
  },
  {
   "cell_type": "markdown",
   "id": "d19cd104-d1ea-4444-996c-0a9672063450",
   "metadata": {},
   "source": [
    "- **4.** Siano $a=0.1234567890123400 e+16$, $b=-0.1234567890123401 e+16$, $c=0.06$. \n",
    "  Calcolare $(a+b)+c$, $(a+c)+b$, $a+(b+c)$. Che cosa si osserva? Ripetere l'esercizio con $a=0.23371258 e-4$, $b=0.33678429 e+2$, $c=-0.33677911 e+2$."
   ]
  },
  {
   "cell_type": "code",
   "execution_count": 20,
   "id": "e01c30a4-ebc8-4bfc-a670-e5d78e393b60",
   "metadata": {},
   "outputs": [
    {
     "name": "stdout",
     "output_type": "stream",
     "text": [
      "-0.94\n",
      "-1.0\n",
      "-1.0\n"
     ]
    }
   ],
   "source": [
    "a = 0.1234567890123400e+16\n",
    "b = -0.1234567890123401e+16\n",
    "c = 0.06\n",
    "# associative property not working because of rounding\n",
    "print((a + b) + c)\n",
    "print((a + c) + b)\n",
    "print(a + (b + c))"
   ]
  },
  {
   "cell_type": "code",
   "execution_count": 19,
   "id": "aae40268-27c0-4040-b6d1-3b51b015faca",
   "metadata": {},
   "outputs": [
    {
     "name": "stdout",
     "output_type": "stream",
     "text": [
      "0.0005413712580022434\n",
      "0.0005413712580022434\n",
      "0.0005413712579995743\n"
     ]
    }
   ],
   "source": [
    "a = 0.23371258e-4\n",
    "b = 0.33678429e+2\n",
    "c = -0.33677911e+2\n",
    "# associative property working\n",
    "print((a + b) + c)\n",
    "print((a + c) + b)\n",
    "print(a + (b + c))"
   ]
  },
  {
   "cell_type": "markdown",
   "id": "269a23ac-daeb-49f4-b1f1-26a3b5cd8300",
   "metadata": {},
   "source": [
    "- **5** Costruire un numpy array costituito da n=10 valori tutti uguali a 0.1\n",
    "-     Effettuate la somma utilizzando un ciclo for.\n",
    "-     Effettuate la somma effettuando la somma con la funzione sum del modulo numpy.\n",
    "  Cosa osservate? Cercate di giustificare i risultati "
   ]
  },
  {
   "cell_type": "code",
   "execution_count": 24,
   "id": "377cd5da-c1b3-48f8-979b-fd28e92b0bed",
   "metadata": {},
   "outputs": [
    {
     "name": "stdout",
     "output_type": "stream",
     "text": [
      "for sum: 0.9999999999999999\n",
      "np sum: 1.0\n"
     ]
    }
   ],
   "source": [
    "import time\n",
    "arr = np.repeat(0.1, 10)\n",
    "for_sum = 0.0\n",
    "for x in arr:\n",
    "    for_sum += x\n",
    "print(\"for sum:\", for_sum) # for loop has round\n",
    "print(\"np sum:\", np.sum(arr))"
   ]
  },
  {
   "cell_type": "markdown",
   "id": "960d25c1-9677-4b1e-92c1-c16870d520b6",
   "metadata": {},
   "source": [
    "- **6.** Si considerino le espressioni $y_1=\\sqrt{x^2+1}-x$ e $y_2=\\frac{1}{\\sqrt{x^2+1}+x}$. Calcolare il valore di $y_1$ e $y_2$ per $x=7777$ e $x=77777777$. Che cosa si osserva? Commentare i risultati ottenuti."
   ]
  },
  {
   "cell_type": "code",
   "execution_count": 27,
   "id": "c3ac23d4-4794-4d2e-a8b0-036fb78c0f32",
   "metadata": {},
   "outputs": [
    {
     "name": "stdout",
     "output_type": "stream",
     "text": [
      "y1(7777): 6.429214317904552e-05\n",
      "y2(7777): 6.429214323431402e-05\n",
      "y1(77777777): 0.0\n",
      "y2(77777777): 6.428571492857143e-09\n"
     ]
    }
   ],
   "source": [
    "y1 = lambda x: np.sqrt(np.pow(x, 2) + 1) - x\n",
    "y2 = lambda x: 1 / (np.sqrt(np.pow(x, 2) + 1) + x)\n",
    "print(\"y1(7777):\", y1(7777))\n",
    "print(\"y2(7777):\", y2(7777))\n",
    "print(\"y1(77777777):\", y1(77777777)) # underflow, rounded to 0\n",
    "print(\"y2(77777777):\", y2(77777777))"
   ]
  },
  {
   "cell_type": "markdown",
   "id": "e3d8c3b3-d514-41ec-a6f2-eb22311ab157",
   "metadata": {},
   "source": [
    "- **7.** Valutare in aritmetica floating point l'espressione\n",
    "$$A(x)=\\frac{1}{x}-\\frac{1}{(x+1)}$$  nel vettore   $x=[10^0, 10^1,... ,10^{20}]$ contenente potenze successive  di $10$,  Si calcoli per ogni elemento di x l'errore relativo considerando come valore esatto quello calcolato usando  l'espressione algebricamente equivalente\n",
    "$$\n",
    "B(x)=\\frac{1}{x (x+1)}.\n",
    "$$ Si visualizzi l'errore relativo in un grafico in scala logaritmica su $x$ e $y$"
   ]
  },
  {
   "cell_type": "code",
   "execution_count": 51,
   "id": "df8e5de6-55d2-4d23-8820-a950689719a6",
   "metadata": {},
   "outputs": [
    {
     "data": {
      "image/png": "[encoded data removed]",
      "text/plain": [
       "<Figure size 640x480 with 1 Axes>"
      ]
     },
     "metadata": {},
     "output_type": "display_data"
    }
   ],
   "source": [
    "A = lambda x: (1 / x) - (1 / (x + 1))\n",
    "B = lambda x: 1 / (x * (x + 1))\n",
    "x = np.array([10 ** i for i in range(21)])\n",
    "a = B(x)\n",
    "fla = A(x)\n",
    "err = np.abs(a - fla) / np.abs(a)\n",
    "plt.loglog(x, err, \"r\")\n",
    "plt.grid(True)\n",
    "plt.xlabel(\"x\")\n",
    "plt.ylabel(\"err\")\n",
    "plt.title(\"Relative error\")\n",
    "plt.show()"
   ]
  },
  {
   "cell_type": "markdown",
   "id": "9f6294cc-b0df-40b8-a1f5-450f4e756ffa",
   "metadata": {},
   "source": [
    "- **8.** Scrivere uno script Matlab che fornisca le approssimazioni di $e=\\exp(1)$ ottenute con la formula\n",
    "$f(n)=(1/n+1)^n$ per $n=10^k$ e  $k=0, ..., 16$. Visualizzare: un grafico con i valori di $f(n)$ al variare di n ed un grafico con i valori dell'errore relativo (considerando come valore esatto il valore math.exp(1)).  Cosa si osserva? Commentare i risultati ottenuti."
   ]
  }
 ],
 "metadata": {
  "kernelspec": {
   "display_name": "Python 3 (ipykernel)",
   "language": "python",
   "name": "python3"
  },
  "language_info": {
   "codemirror_mode": {
    "name": "ipython",
    "version": 3
   },
   "file_extension": ".py",
   "mimetype": "text/x-python",
   "name": "python",
   "nbconvert_exporter": "python",
   "pygments_lexer": "ipython3",
   "version": "3.13.2"
  }
 },
 "nbformat": 4,
 "nbformat_minor": 5
}

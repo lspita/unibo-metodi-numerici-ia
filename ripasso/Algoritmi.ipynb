{
 "cells": [
  {
   "cell_type": "code",
   "execution_count": null,
   "id": "7d390cb5-545e-477d-98d6-462e01a8c795",
   "metadata": {},
   "outputs": [],
   "source": [
    "import numpy as np"
   ]
  },
  {
   "cell_type": "markdown",
   "id": "987f2f7c-d55d-4543-8532-90c73355c7cb",
   "metadata": {},
   "source": [
    "# Algoritmi"
   ]
  },
  {
   "cell_type": "markdown",
   "id": "5cdf8ce3-6c8b-4e65-826a-cdb8b3de05b0",
   "metadata": {},
   "source": [
    "## Funzioni"
   ]
  },
  {
   "cell_type": "markdown",
   "id": "ea7606fa-acc3-4eeb-8ce9-bcf8f5e90c96",
   "metadata": {},
   "source": [
    "### Zeri di funzione"
   ]
  },
  {
   "cell_type": "code",
   "execution_count": 10,
   "id": "fe4cad7d-c2e0-40aa-87e1-707faa6f869d",
   "metadata": {},
   "outputs": [],
   "source": [
    "def metodo_bisezione(fname, a, b, tolx): \n",
    "    fa=fname(a)\n",
    "    fb=fname(b)\n",
    "    if np.sign(fa)*np.sign(fb) > 0:\n",
    "        print(\"Non è possibile applicare il metodo di bisezione \\n\")\n",
    "        return None, None,None\n",
    "    \n",
    "    it = 0\n",
    "    v_xk = []\n",
    "    erroreX = tolx+1\n",
    "    maxit = np.ceil(np.log2(np.abs(b-a)/tolx)-1)\n",
    "    \n",
    "    while it <= maxit and erroreX >= tolx:\n",
    "        xk = a + (b-a)/2 # più stabile rispetto (b+a)/2\n",
    "        v_xk.append(xk)\n",
    "        it += 1\n",
    "        fxk=fname(xk)\n",
    "        if fxk==0:\n",
    "            return xk, it, v_xk\n",
    "        \n",
    "        if np.sign(fb)*np.sign(fxk) <= 0: # radice nel range [xk, b]\n",
    "            a = xk\n",
    "            fa= fxk \n",
    "        elif np.sign(fa)*np.sign(fxk) <= 0: # radice nel range [a, xk]\n",
    "            b = xk\n",
    "            fb= fxk\n",
    "\n",
    "        erroreX = np.abs(b-a)\n",
    "\n",
    "    return xk, it, v_xk"
   ]
  }
 ],
 "metadata": {
  "kernelspec": {
   "display_name": "Python 3 (ipykernel)",
   "language": "python",
   "name": "python3"
  },
  "language_info": {
   "codemirror_mode": {
    "name": "ipython",
    "version": 3
   },
   "file_extension": ".py",
   "mimetype": "text/x-python",
   "name": "python",
   "nbconvert_exporter": "python",
   "pygments_lexer": "ipython3",
   "version": "3.13.5"
  }
 },
 "nbformat": 4,
 "nbformat_minor": 5
}

{
 "cells": [
  {
   "cell_type": "code",
   "execution_count": 1,
   "id": "8c7bdd9b-b72c-4070-aefa-a2315611dcb2",
   "metadata": {},
   "outputs": [],
   "source": [
    "import numpy as np"
   ]
  },
  {
   "cell_type": "markdown",
   "id": "bf017a89-adac-46ce-b563-ef2d0bc7b037",
   "metadata": {},
   "source": [
    "# Verifica caratteristiche di una matrice"
   ]
  },
  {
   "cell_type": "markdown",
   "id": "0f02de42-a115-4a78-b0de-1942ce3509e3",
   "metadata": {},
   "source": [
    "Una matrice quadrata $A \\in \\mathbb{R}^{n \\times n}$ è considerata\n",
    "- piccola se $1 \\le n \\le 100$\n",
    "- grande se $300 \\le n \\le 500$"
   ]
  },
  {
   "cell_type": "code",
   "execution_count": 2,
   "id": "e3a33022-27d2-4af0-b6de-772e33fc8adc",
   "metadata": {},
   "outputs": [],
   "source": [
    "def rango_massimo(A):\n",
    "    return np.min(A.shape) == np.linalg.rank(A)"
   ]
  },
  {
   "cell_type": "code",
   "execution_count": 3,
   "id": "20af158f-ed46-47ec-bafb-195e8202a254",
   "metadata": {},
   "outputs": [],
   "source": [
    "def non_singolare(A):\n",
    "    return np.linalg.det(A) != 0"
   ]
  },
  {
   "cell_type": "code",
   "execution_count": 4,
   "id": "e329dfc1-003c-43c1-877f-ae85d34fcb1f",
   "metadata": {},
   "outputs": [],
   "source": [
    "def definita_positiva(A):\n",
    "    return np.all(np.linalg.eigvals(A) > 0)"
   ]
  },
  {
   "cell_type": "code",
   "execution_count": 5,
   "id": "8428ebdc-1c08-47de-804f-483778717094",
   "metadata": {},
   "outputs": [],
   "source": [
    "def simmetrica(A):\n",
    "    return np.all(A==A.T)"
   ]
  },
  {
   "cell_type": "code",
   "execution_count": 6,
   "id": "555cf378-b467-4cb5-adfd-11269da382b8",
   "metadata": {},
   "outputs": [],
   "source": [
    "def quadrata(A):\n",
    "    return A.shape[0]==A.shape[1]"
   ]
  },
  {
   "cell_type": "code",
   "execution_count": 7,
   "id": "a3a1f598-7a70-4171-a375-4da313b8bc3b",
   "metadata": {},
   "outputs": [],
   "source": [
    "def qualità_condizionamento(A):\n",
    "    K = np.linalg.cond(A)\n",
    "    if K <= 10**2:\n",
    "        return 1 # ben condizionata\n",
    "    elif K <= 10**3:\n",
    "        return 0 # mediamente condizionata\n",
    "    else:\n",
    "        return -1 # mal condizionata"
   ]
  },
  {
   "cell_type": "code",
   "execution_count": 1,
   "id": "254dd988-eafe-454e-b2e2-d328b34f6227",
   "metadata": {},
   "outputs": [],
   "source": [
    "def grandezza(A):\n",
    "    m, n = A.shape\n",
    "    if m != n:\n",
    "        print(\"A non quadrata\")\n",
    "        return\n",
    "    \n",
    "    if n > 300:\n",
    "        return 1 # grande\n",
    "    elif n > 100:\n",
    "        return 0 # media\n",
    "    else:\n",
    "        return -1 # piccola"
   ]
  },
  {
   "cell_type": "code",
   "execution_count": 8,
   "id": "b7954850-dcf0-46a7-984a-1bd7975bb666",
   "metadata": {},
   "outputs": [],
   "source": [
    "def sparsa(A):\n",
    "    return np.count_nonzero(A)/(np.prod(A.shape)) <= 0.33"
   ]
  },
  {
   "cell_type": "code",
   "execution_count": 9,
   "id": "ce57c897-4d2e-458a-adba-ff9c749023fe",
   "metadata": {},
   "outputs": [],
   "source": [
    "def diagonale_strettamente_dominante(A):\n",
    "    absA = np.abs(A)\n",
    "    return np.all(2*np.diag(absA) >= np.sum(absA, axis=1)) #|Aii| ≥ ∑j≠i |Aij|  =>  2|Aii| ≥ ∑j |Aij|."
   ]
  }
 ],
 "metadata": {
  "kernelspec": {
   "display_name": "Python 3 (ipykernel)",
   "language": "python",
   "name": "python3"
  },
  "language_info": {
   "codemirror_mode": {
    "name": "ipython",
    "version": 3
   },
   "file_extension": ".py",
   "mimetype": "text/x-python",
   "name": "python",
   "nbconvert_exporter": "python",
   "pygments_lexer": "ipython3",
   "version": "3.13.5"
  }
 },
 "nbformat": 4,
 "nbformat_minor": 5
}
